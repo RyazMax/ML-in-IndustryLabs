{
  "nbformat": 4,
  "nbformat_minor": 0,
  "metadata": {
    "colab": {
      "provenance": [],
      "collapsed_sections": [
        "eWOItn-4LfnM",
        "WY1hYHPuUdGS"
      ],
      "authorship_tag": "ABX9TyPIWH5akXW2WlTQABekFROt",
      "include_colab_link": true
    },
    "kernelspec": {
      "name": "python3",
      "display_name": "Python 3"
    },
    "language_info": {
      "name": "python"
    },
    "gpuClass": "standard"
  },
  "cells": [
    {
      "cell_type": "markdown",
      "metadata": {
        "id": "view-in-github",
        "colab_type": "text"
      },
      "source": [
        "<a href=\"https://colab.research.google.com/github/RyazMax/ML-in-IndustryLabs/blob/main/LW2/Lab2_EDA%2Bbaseline.ipynb\" target=\"_parent\"><img src=\"https://colab.research.google.com/assets/colab-badge.svg\" alt=\"Open In Colab\"/></a>"
      ]
    },
    {
      "cell_type": "markdown",
      "source": [
        "# Setup"
      ],
      "metadata": {
        "id": "Z6-m1LNAQzrH"
      }
    },
    {
      "cell_type": "code",
      "source": [
        "# blocks output in Colab 💄\n",
        "%%capture\n",
        "\n",
        "! pip install datasets transformers"
      ],
      "metadata": {
        "id": "pwu0vqEh6Mfp"
      },
      "execution_count": null,
      "outputs": []
    },
    {
      "cell_type": "code",
      "execution_count": null,
      "metadata": {
        "id": "2Wxgtt78NvPB",
        "colab": {
          "base_uri": "https://localhost:8080/"
        },
        "outputId": "f9dbaf2f-979d-4633-bd83-574cffc9b8e6"
      },
      "outputs": [
        {
          "output_type": "stream",
          "name": "stderr",
          "text": [
            "[nltk_data] Downloading package stopwords to /root/nltk_data...\n",
            "[nltk_data]   Package stopwords is already up-to-date!\n",
            "[nltk_data] Downloading package wordnet to /root/nltk_data...\n",
            "[nltk_data]   Package wordnet is already up-to-date!\n",
            "[nltk_data] Downloading package omw-1.4 to /root/nltk_data...\n",
            "[nltk_data]   Package omw-1.4 is already up-to-date!\n",
            "[nltk_data] Downloading package punkt to /root/nltk_data...\n",
            "[nltk_data]   Package punkt is already up-to-date!\n"
          ]
        }
      ],
      "source": [
        "import os\n",
        "import re\n",
        "from functools import partial\n",
        "from operator import itemgetter\n",
        "from sortedcontainers import SortedList\n",
        "\n",
        "import numpy as np\n",
        "import pandas as pd\n",
        "import seaborn as sns\n",
        "from matplotlib import pyplot as plt\n",
        "\n",
        "from xgboost import XGBClassifier\n",
        "\n",
        "import torch\n",
        "\n",
        "import nltk\n",
        "nltk.download('stopwords')\n",
        "nltk.download('wordnet')\n",
        "nltk.download('omw-1.4')\n",
        "nltk.download('punkt')\n",
        "from nltk.corpus import stopwords\n",
        "from nltk.stem import WordNetLemmatizer\n",
        "from nltk.stem.porter import PorterStemmer\n",
        "\n",
        "import PIL\n",
        "from PIL import Image\n",
        "\n",
        "from sklearn.pipeline import Pipeline\n",
        "from sklearn.preprocessing import MultiLabelBinarizer\n",
        "from sklearn.model_selection import train_test_split\n",
        "from sklearn.multiclass import OneVsRestClassifier\n",
        "from sklearn.multioutput import MultiOutputClassifier\n",
        "from sklearn.metrics import accuracy_score, precision_score, f1_score\n",
        "from sklearn.feature_extraction.text import CountVectorizer, TfidfVectorizer"
      ]
    },
    {
      "cell_type": "code",
      "source": [
        "from google.colab import drive\n",
        "drive.mount('/content/drive/')"
      ],
      "metadata": {
        "colab": {
          "base_uri": "https://localhost:8080/"
        },
        "id": "lbXG_f63OGuz",
        "outputId": "9772a580-52bb-4bf4-e56a-484fc683b010"
      },
      "execution_count": null,
      "outputs": [
        {
          "output_type": "stream",
          "name": "stdout",
          "text": [
            "Drive already mounted at /content/drive/; to attempt to forcibly remount, call drive.mount(\"/content/drive/\", force_remount=True).\n"
          ]
        }
      ]
    },
    {
      "cell_type": "code",
      "source": [
        "RS = 65536\n",
        "\n",
        "def movie_img(id):\n",
        "  return os.path.join('/content/drive/MyDrive/ITMO/3SEM/IndML/Lab2/imdb_proj/img', f'{id}.png')"
      ],
      "metadata": {
        "id": "RPzNn-ZoOMeT"
      },
      "execution_count": null,
      "outputs": []
    },
    {
      "cell_type": "markdown",
      "source": [
        "### Load the data"
      ],
      "metadata": {
        "id": "GEjL7vjVKr2F"
      }
    },
    {
      "cell_type": "code",
      "source": [
        "movies = pd.read_csv('/content/drive/MyDrive/ITMO/3SEM/IndML/Lab2/imdb_proj/movies.csv')"
      ],
      "metadata": {
        "id": "B5Sjr9EgOUFr"
      },
      "execution_count": null,
      "outputs": []
    },
    {
      "cell_type": "code",
      "source": [
        "movies.head(15)"
      ],
      "metadata": {
        "colab": {
          "base_uri": "https://localhost:8080/",
          "height": 871
        },
        "id": "FnAbjVnPPCec",
        "outputId": "3a3e0e8f-77d2-4112-b0ad-bb8edd0c8e81"
      },
      "execution_count": null,
      "outputs": [
        {
          "output_type": "execute_result",
          "data": {
            "text/plain": [
              "     id                                            title  \\\n",
              "0    10                              Leaving the Factory   \n",
              "1    12                           The Arrival of a Train   \n",
              "2    70                             Demolition of a Wall   \n",
              "3    91                           The House of the Devil   \n",
              "4   211  The Astronomer's Dream; or, the Man in the Moon   \n",
              "5   228                                La bonne absinthe   \n",
              "6   359                  L'homme à la tête en caoutchouc   \n",
              "7   417                               A Trip to the Moon   \n",
              "8   439                          The Great Train Robbery   \n",
              "9   447                      Life of an American Fireman   \n",
              "10  554                   Humorous Phases of Funny Faces   \n",
              "11  628                         The Adventures of Dollie   \n",
              "12  749                     Rescued from an Eagle's Nest   \n",
              "13  797                                     At the Altar   \n",
              "14  832                                A Corner in Wheat   \n",
              "\n",
              "                                                short  Action  Adult  \\\n",
              "0   Workers leaving the Lumière factory for lunch ...       0      0   \n",
              "1               A train arrives at La Ciotat station.       0      0   \n",
              "2   Auguste Lumière directs four workers in the de...       0      0   \n",
              "3   With the help of a magic cauldron, Mephistophe...       0      0   \n",
              "4   An astronomer falls asleep and has a strange d...       0      0   \n",
              "5   A customer places an order at a cafe. While re...       0      0   \n",
              "6   A chemist carries out a bizarre experiment wit...       0      0   \n",
              "7   A group of astronomers go on an expedition to ...       1      0   \n",
              "8   A group of bandits stage a brazen train hold-u...       1      0   \n",
              "9   A fireman rushes into a carriage to rescue a w...       1      0   \n",
              "10  A cartoonist draws faces and figures on a blac...       0      0   \n",
              "11  On a warm and sunny summer's day, a mother and...       1      0   \n",
              "12  A family is terrified when an eagle carries of...       1      0   \n",
              "13  At the Italian boarding house the male boarder...       0      0   \n",
              "14  An unscrupulous and greedy capitalist speculat...       0      0   \n",
              "\n",
              "    Adventure  Animation  Biography  Comedy  Crime  ...  Romance  Sci-Fi  \\\n",
              "0           0          0          0       0      0  ...        0       0   \n",
              "1           0          0          0       0      0  ...        0       0   \n",
              "2           0          0          0       0      0  ...        0       0   \n",
              "3           0          0          0       0      0  ...        0       0   \n",
              "4           0          0          0       1      0  ...        0       0   \n",
              "5           0          0          0       0      0  ...        0       0   \n",
              "6           0          0          0       1      0  ...        0       0   \n",
              "7           1          0          0       1      0  ...        0       0   \n",
              "8           1          0          0       0      1  ...        0       0   \n",
              "9           0          0          0       0      0  ...        0       0   \n",
              "10          0          1          0       1      0  ...        0       0   \n",
              "11          0          0          0       0      0  ...        0       0   \n",
              "12          0          0          0       0      0  ...        0       0   \n",
              "13          0          0          0       0      0  ...        0       0   \n",
              "14          0          0          0       0      1  ...        0       0   \n",
              "\n",
              "    Short  Sport  Superhero  Talk-Show  Thriller  War  Western  \\N  \n",
              "0       1      0          0          0         0    0        0   0  \n",
              "1       1      0          0          0         0    0        0   0  \n",
              "2       1      0          0          0         0    0        0   0  \n",
              "3       1      0          0          0         0    0        0   0  \n",
              "4       0      0          0          0         0    0        0   0  \n",
              "5       1      0          0          0         0    0        0   0  \n",
              "6       1      0          0          0         0    0        0   0  \n",
              "7       0      0          0          0         0    0        0   0  \n",
              "8       0      0          0          0         0    0        0   0  \n",
              "9       1      0          0          0         0    0        0   0  \n",
              "10      0      0          0          0         0    0        0   0  \n",
              "11      1      0          0          0         0    0        0   0  \n",
              "12      1      0          0          0         0    0        0   0  \n",
              "13      1      0          0          0         0    0        0   0  \n",
              "14      1      0          0          0         0    0        0   0  \n",
              "\n",
              "[15 rows x 32 columns]"
            ],
            "text/html": [
              "\n",
              "  <div id=\"df-070635c6-692e-4041-8655-77b3dbc38319\">\n",
              "    <div class=\"colab-df-container\">\n",
              "      <div>\n",
              "<style scoped>\n",
              "    .dataframe tbody tr th:only-of-type {\n",
              "        vertical-align: middle;\n",
              "    }\n",
              "\n",
              "    .dataframe tbody tr th {\n",
              "        vertical-align: top;\n",
              "    }\n",
              "\n",
              "    .dataframe thead th {\n",
              "        text-align: right;\n",
              "    }\n",
              "</style>\n",
              "<table border=\"1\" class=\"dataframe\">\n",
              "  <thead>\n",
              "    <tr style=\"text-align: right;\">\n",
              "      <th></th>\n",
              "      <th>id</th>\n",
              "      <th>title</th>\n",
              "      <th>short</th>\n",
              "      <th>Action</th>\n",
              "      <th>Adult</th>\n",
              "      <th>Adventure</th>\n",
              "      <th>Animation</th>\n",
              "      <th>Biography</th>\n",
              "      <th>Comedy</th>\n",
              "      <th>Crime</th>\n",
              "      <th>...</th>\n",
              "      <th>Romance</th>\n",
              "      <th>Sci-Fi</th>\n",
              "      <th>Short</th>\n",
              "      <th>Sport</th>\n",
              "      <th>Superhero</th>\n",
              "      <th>Talk-Show</th>\n",
              "      <th>Thriller</th>\n",
              "      <th>War</th>\n",
              "      <th>Western</th>\n",
              "      <th>\\N</th>\n",
              "    </tr>\n",
              "  </thead>\n",
              "  <tbody>\n",
              "    <tr>\n",
              "      <th>0</th>\n",
              "      <td>10</td>\n",
              "      <td>Leaving the Factory</td>\n",
              "      <td>Workers leaving the Lumière factory for lunch ...</td>\n",
              "      <td>0</td>\n",
              "      <td>0</td>\n",
              "      <td>0</td>\n",
              "      <td>0</td>\n",
              "      <td>0</td>\n",
              "      <td>0</td>\n",
              "      <td>0</td>\n",
              "      <td>...</td>\n",
              "      <td>0</td>\n",
              "      <td>0</td>\n",
              "      <td>1</td>\n",
              "      <td>0</td>\n",
              "      <td>0</td>\n",
              "      <td>0</td>\n",
              "      <td>0</td>\n",
              "      <td>0</td>\n",
              "      <td>0</td>\n",
              "      <td>0</td>\n",
              "    </tr>\n",
              "    <tr>\n",
              "      <th>1</th>\n",
              "      <td>12</td>\n",
              "      <td>The Arrival of a Train</td>\n",
              "      <td>A train arrives at La Ciotat station.</td>\n",
              "      <td>0</td>\n",
              "      <td>0</td>\n",
              "      <td>0</td>\n",
              "      <td>0</td>\n",
              "      <td>0</td>\n",
              "      <td>0</td>\n",
              "      <td>0</td>\n",
              "      <td>...</td>\n",
              "      <td>0</td>\n",
              "      <td>0</td>\n",
              "      <td>1</td>\n",
              "      <td>0</td>\n",
              "      <td>0</td>\n",
              "      <td>0</td>\n",
              "      <td>0</td>\n",
              "      <td>0</td>\n",
              "      <td>0</td>\n",
              "      <td>0</td>\n",
              "    </tr>\n",
              "    <tr>\n",
              "      <th>2</th>\n",
              "      <td>70</td>\n",
              "      <td>Demolition of a Wall</td>\n",
              "      <td>Auguste Lumière directs four workers in the de...</td>\n",
              "      <td>0</td>\n",
              "      <td>0</td>\n",
              "      <td>0</td>\n",
              "      <td>0</td>\n",
              "      <td>0</td>\n",
              "      <td>0</td>\n",
              "      <td>0</td>\n",
              "      <td>...</td>\n",
              "      <td>0</td>\n",
              "      <td>0</td>\n",
              "      <td>1</td>\n",
              "      <td>0</td>\n",
              "      <td>0</td>\n",
              "      <td>0</td>\n",
              "      <td>0</td>\n",
              "      <td>0</td>\n",
              "      <td>0</td>\n",
              "      <td>0</td>\n",
              "    </tr>\n",
              "    <tr>\n",
              "      <th>3</th>\n",
              "      <td>91</td>\n",
              "      <td>The House of the Devil</td>\n",
              "      <td>With the help of a magic cauldron, Mephistophe...</td>\n",
              "      <td>0</td>\n",
              "      <td>0</td>\n",
              "      <td>0</td>\n",
              "      <td>0</td>\n",
              "      <td>0</td>\n",
              "      <td>0</td>\n",
              "      <td>0</td>\n",
              "      <td>...</td>\n",
              "      <td>0</td>\n",
              "      <td>0</td>\n",
              "      <td>1</td>\n",
              "      <td>0</td>\n",
              "      <td>0</td>\n",
              "      <td>0</td>\n",
              "      <td>0</td>\n",
              "      <td>0</td>\n",
              "      <td>0</td>\n",
              "      <td>0</td>\n",
              "    </tr>\n",
              "    <tr>\n",
              "      <th>4</th>\n",
              "      <td>211</td>\n",
              "      <td>The Astronomer's Dream; or, the Man in the Moon</td>\n",
              "      <td>An astronomer falls asleep and has a strange d...</td>\n",
              "      <td>0</td>\n",
              "      <td>0</td>\n",
              "      <td>0</td>\n",
              "      <td>0</td>\n",
              "      <td>0</td>\n",
              "      <td>1</td>\n",
              "      <td>0</td>\n",
              "      <td>...</td>\n",
              "      <td>0</td>\n",
              "      <td>0</td>\n",
              "      <td>0</td>\n",
              "      <td>0</td>\n",
              "      <td>0</td>\n",
              "      <td>0</td>\n",
              "      <td>0</td>\n",
              "      <td>0</td>\n",
              "      <td>0</td>\n",
              "      <td>0</td>\n",
              "    </tr>\n",
              "    <tr>\n",
              "      <th>5</th>\n",
              "      <td>228</td>\n",
              "      <td>La bonne absinthe</td>\n",
              "      <td>A customer places an order at a cafe. While re...</td>\n",
              "      <td>0</td>\n",
              "      <td>0</td>\n",
              "      <td>0</td>\n",
              "      <td>0</td>\n",
              "      <td>0</td>\n",
              "      <td>0</td>\n",
              "      <td>0</td>\n",
              "      <td>...</td>\n",
              "      <td>0</td>\n",
              "      <td>0</td>\n",
              "      <td>1</td>\n",
              "      <td>0</td>\n",
              "      <td>0</td>\n",
              "      <td>0</td>\n",
              "      <td>0</td>\n",
              "      <td>0</td>\n",
              "      <td>0</td>\n",
              "      <td>0</td>\n",
              "    </tr>\n",
              "    <tr>\n",
              "      <th>6</th>\n",
              "      <td>359</td>\n",
              "      <td>L'homme à la tête en caoutchouc</td>\n",
              "      <td>A chemist carries out a bizarre experiment wit...</td>\n",
              "      <td>0</td>\n",
              "      <td>0</td>\n",
              "      <td>0</td>\n",
              "      <td>0</td>\n",
              "      <td>0</td>\n",
              "      <td>1</td>\n",
              "      <td>0</td>\n",
              "      <td>...</td>\n",
              "      <td>0</td>\n",
              "      <td>0</td>\n",
              "      <td>1</td>\n",
              "      <td>0</td>\n",
              "      <td>0</td>\n",
              "      <td>0</td>\n",
              "      <td>0</td>\n",
              "      <td>0</td>\n",
              "      <td>0</td>\n",
              "      <td>0</td>\n",
              "    </tr>\n",
              "    <tr>\n",
              "      <th>7</th>\n",
              "      <td>417</td>\n",
              "      <td>A Trip to the Moon</td>\n",
              "      <td>A group of astronomers go on an expedition to ...</td>\n",
              "      <td>1</td>\n",
              "      <td>0</td>\n",
              "      <td>1</td>\n",
              "      <td>0</td>\n",
              "      <td>0</td>\n",
              "      <td>1</td>\n",
              "      <td>0</td>\n",
              "      <td>...</td>\n",
              "      <td>0</td>\n",
              "      <td>0</td>\n",
              "      <td>0</td>\n",
              "      <td>0</td>\n",
              "      <td>0</td>\n",
              "      <td>0</td>\n",
              "      <td>0</td>\n",
              "      <td>0</td>\n",
              "      <td>0</td>\n",
              "      <td>0</td>\n",
              "    </tr>\n",
              "    <tr>\n",
              "      <th>8</th>\n",
              "      <td>439</td>\n",
              "      <td>The Great Train Robbery</td>\n",
              "      <td>A group of bandits stage a brazen train hold-u...</td>\n",
              "      <td>1</td>\n",
              "      <td>0</td>\n",
              "      <td>1</td>\n",
              "      <td>0</td>\n",
              "      <td>0</td>\n",
              "      <td>0</td>\n",
              "      <td>1</td>\n",
              "      <td>...</td>\n",
              "      <td>0</td>\n",
              "      <td>0</td>\n",
              "      <td>0</td>\n",
              "      <td>0</td>\n",
              "      <td>0</td>\n",
              "      <td>0</td>\n",
              "      <td>0</td>\n",
              "      <td>0</td>\n",
              "      <td>0</td>\n",
              "      <td>0</td>\n",
              "    </tr>\n",
              "    <tr>\n",
              "      <th>9</th>\n",
              "      <td>447</td>\n",
              "      <td>Life of an American Fireman</td>\n",
              "      <td>A fireman rushes into a carriage to rescue a w...</td>\n",
              "      <td>1</td>\n",
              "      <td>0</td>\n",
              "      <td>0</td>\n",
              "      <td>0</td>\n",
              "      <td>0</td>\n",
              "      <td>0</td>\n",
              "      <td>0</td>\n",
              "      <td>...</td>\n",
              "      <td>0</td>\n",
              "      <td>0</td>\n",
              "      <td>1</td>\n",
              "      <td>0</td>\n",
              "      <td>0</td>\n",
              "      <td>0</td>\n",
              "      <td>0</td>\n",
              "      <td>0</td>\n",
              "      <td>0</td>\n",
              "      <td>0</td>\n",
              "    </tr>\n",
              "    <tr>\n",
              "      <th>10</th>\n",
              "      <td>554</td>\n",
              "      <td>Humorous Phases of Funny Faces</td>\n",
              "      <td>A cartoonist draws faces and figures on a blac...</td>\n",
              "      <td>0</td>\n",
              "      <td>0</td>\n",
              "      <td>0</td>\n",
              "      <td>1</td>\n",
              "      <td>0</td>\n",
              "      <td>1</td>\n",
              "      <td>0</td>\n",
              "      <td>...</td>\n",
              "      <td>0</td>\n",
              "      <td>0</td>\n",
              "      <td>0</td>\n",
              "      <td>0</td>\n",
              "      <td>0</td>\n",
              "      <td>0</td>\n",
              "      <td>0</td>\n",
              "      <td>0</td>\n",
              "      <td>0</td>\n",
              "      <td>0</td>\n",
              "    </tr>\n",
              "    <tr>\n",
              "      <th>11</th>\n",
              "      <td>628</td>\n",
              "      <td>The Adventures of Dollie</td>\n",
              "      <td>On a warm and sunny summer's day, a mother and...</td>\n",
              "      <td>1</td>\n",
              "      <td>0</td>\n",
              "      <td>0</td>\n",
              "      <td>0</td>\n",
              "      <td>0</td>\n",
              "      <td>0</td>\n",
              "      <td>0</td>\n",
              "      <td>...</td>\n",
              "      <td>0</td>\n",
              "      <td>0</td>\n",
              "      <td>1</td>\n",
              "      <td>0</td>\n",
              "      <td>0</td>\n",
              "      <td>0</td>\n",
              "      <td>0</td>\n",
              "      <td>0</td>\n",
              "      <td>0</td>\n",
              "      <td>0</td>\n",
              "    </tr>\n",
              "    <tr>\n",
              "      <th>12</th>\n",
              "      <td>749</td>\n",
              "      <td>Rescued from an Eagle's Nest</td>\n",
              "      <td>A family is terrified when an eagle carries of...</td>\n",
              "      <td>1</td>\n",
              "      <td>0</td>\n",
              "      <td>0</td>\n",
              "      <td>0</td>\n",
              "      <td>0</td>\n",
              "      <td>0</td>\n",
              "      <td>0</td>\n",
              "      <td>...</td>\n",
              "      <td>0</td>\n",
              "      <td>0</td>\n",
              "      <td>1</td>\n",
              "      <td>0</td>\n",
              "      <td>0</td>\n",
              "      <td>0</td>\n",
              "      <td>0</td>\n",
              "      <td>0</td>\n",
              "      <td>0</td>\n",
              "      <td>0</td>\n",
              "    </tr>\n",
              "    <tr>\n",
              "      <th>13</th>\n",
              "      <td>797</td>\n",
              "      <td>At the Altar</td>\n",
              "      <td>At the Italian boarding house the male boarder...</td>\n",
              "      <td>0</td>\n",
              "      <td>0</td>\n",
              "      <td>0</td>\n",
              "      <td>0</td>\n",
              "      <td>0</td>\n",
              "      <td>0</td>\n",
              "      <td>0</td>\n",
              "      <td>...</td>\n",
              "      <td>0</td>\n",
              "      <td>0</td>\n",
              "      <td>1</td>\n",
              "      <td>0</td>\n",
              "      <td>0</td>\n",
              "      <td>0</td>\n",
              "      <td>0</td>\n",
              "      <td>0</td>\n",
              "      <td>0</td>\n",
              "      <td>0</td>\n",
              "    </tr>\n",
              "    <tr>\n",
              "      <th>14</th>\n",
              "      <td>832</td>\n",
              "      <td>A Corner in Wheat</td>\n",
              "      <td>An unscrupulous and greedy capitalist speculat...</td>\n",
              "      <td>0</td>\n",
              "      <td>0</td>\n",
              "      <td>0</td>\n",
              "      <td>0</td>\n",
              "      <td>0</td>\n",
              "      <td>0</td>\n",
              "      <td>1</td>\n",
              "      <td>...</td>\n",
              "      <td>0</td>\n",
              "      <td>0</td>\n",
              "      <td>1</td>\n",
              "      <td>0</td>\n",
              "      <td>0</td>\n",
              "      <td>0</td>\n",
              "      <td>0</td>\n",
              "      <td>0</td>\n",
              "      <td>0</td>\n",
              "      <td>0</td>\n",
              "    </tr>\n",
              "  </tbody>\n",
              "</table>\n",
              "<p>15 rows × 32 columns</p>\n",
              "</div>\n",
              "      <button class=\"colab-df-convert\" onclick=\"convertToInteractive('df-070635c6-692e-4041-8655-77b3dbc38319')\"\n",
              "              title=\"Convert this dataframe to an interactive table.\"\n",
              "              style=\"display:none;\">\n",
              "        \n",
              "  <svg xmlns=\"http://www.w3.org/2000/svg\" height=\"24px\"viewBox=\"0 0 24 24\"\n",
              "       width=\"24px\">\n",
              "    <path d=\"M0 0h24v24H0V0z\" fill=\"none\"/>\n",
              "    <path d=\"M18.56 5.44l.94 2.06.94-2.06 2.06-.94-2.06-.94-.94-2.06-.94 2.06-2.06.94zm-11 1L8.5 8.5l.94-2.06 2.06-.94-2.06-.94L8.5 2.5l-.94 2.06-2.06.94zm10 10l.94 2.06.94-2.06 2.06-.94-2.06-.94-.94-2.06-.94 2.06-2.06.94z\"/><path d=\"M17.41 7.96l-1.37-1.37c-.4-.4-.92-.59-1.43-.59-.52 0-1.04.2-1.43.59L10.3 9.45l-7.72 7.72c-.78.78-.78 2.05 0 2.83L4 21.41c.39.39.9.59 1.41.59.51 0 1.02-.2 1.41-.59l7.78-7.78 2.81-2.81c.8-.78.8-2.07 0-2.86zM5.41 20L4 18.59l7.72-7.72 1.47 1.35L5.41 20z\"/>\n",
              "  </svg>\n",
              "      </button>\n",
              "      \n",
              "  <style>\n",
              "    .colab-df-container {\n",
              "      display:flex;\n",
              "      flex-wrap:wrap;\n",
              "      gap: 12px;\n",
              "    }\n",
              "\n",
              "    .colab-df-convert {\n",
              "      background-color: #E8F0FE;\n",
              "      border: none;\n",
              "      border-radius: 50%;\n",
              "      cursor: pointer;\n",
              "      display: none;\n",
              "      fill: #1967D2;\n",
              "      height: 32px;\n",
              "      padding: 0 0 0 0;\n",
              "      width: 32px;\n",
              "    }\n",
              "\n",
              "    .colab-df-convert:hover {\n",
              "      background-color: #E2EBFA;\n",
              "      box-shadow: 0px 1px 2px rgba(60, 64, 67, 0.3), 0px 1px 3px 1px rgba(60, 64, 67, 0.15);\n",
              "      fill: #174EA6;\n",
              "    }\n",
              "\n",
              "    [theme=dark] .colab-df-convert {\n",
              "      background-color: #3B4455;\n",
              "      fill: #D2E3FC;\n",
              "    }\n",
              "\n",
              "    [theme=dark] .colab-df-convert:hover {\n",
              "      background-color: #434B5C;\n",
              "      box-shadow: 0px 1px 3px 1px rgba(0, 0, 0, 0.15);\n",
              "      filter: drop-shadow(0px 1px 2px rgba(0, 0, 0, 0.3));\n",
              "      fill: #FFFFFF;\n",
              "    }\n",
              "  </style>\n",
              "\n",
              "      <script>\n",
              "        const buttonEl =\n",
              "          document.querySelector('#df-070635c6-692e-4041-8655-77b3dbc38319 button.colab-df-convert');\n",
              "        buttonEl.style.display =\n",
              "          google.colab.kernel.accessAllowed ? 'block' : 'none';\n",
              "\n",
              "        async function convertToInteractive(key) {\n",
              "          const element = document.querySelector('#df-070635c6-692e-4041-8655-77b3dbc38319');\n",
              "          const dataTable =\n",
              "            await google.colab.kernel.invokeFunction('convertToInteractive',\n",
              "                                                     [key], {});\n",
              "          if (!dataTable) return;\n",
              "\n",
              "          const docLinkHtml = 'Like what you see? Visit the ' +\n",
              "            '<a target=\"_blank\" href=https://colab.research.google.com/notebooks/data_table.ipynb>data table notebook</a>'\n",
              "            + ' to learn more about interactive tables.';\n",
              "          element.innerHTML = '';\n",
              "          dataTable['output_type'] = 'display_data';\n",
              "          await google.colab.output.renderOutput(dataTable, element);\n",
              "          const docLink = document.createElement('div');\n",
              "          docLink.innerHTML = docLinkHtml;\n",
              "          element.appendChild(docLink);\n",
              "        }\n",
              "      </script>\n",
              "    </div>\n",
              "  </div>\n",
              "  "
            ]
          },
          "metadata": {},
          "execution_count": 6
        }
      ]
    },
    {
      "cell_type": "markdown",
      "source": [
        "### Info"
      ],
      "metadata": {
        "id": "4cH-9nEeKu8w"
      }
    },
    {
      "cell_type": "code",
      "source": [
        "movies.info()"
      ],
      "metadata": {
        "colab": {
          "base_uri": "https://localhost:8080/"
        },
        "id": "wLODYf2mQ7pr",
        "outputId": "d1fdb2f6-b6b2-4268-bd57-f26f64f9a333"
      },
      "execution_count": null,
      "outputs": [
        {
          "output_type": "stream",
          "name": "stdout",
          "text": [
            "<class 'pandas.core.frame.DataFrame'>\n",
            "RangeIndex: 22240 entries, 0 to 22239\n",
            "Data columns (total 32 columns):\n",
            " #   Column       Non-Null Count  Dtype \n",
            "---  ------       --------------  ----- \n",
            " 0   id           22240 non-null  int64 \n",
            " 1   title        22240 non-null  object\n",
            " 2   short        22005 non-null  object\n",
            " 3   Action       22240 non-null  int64 \n",
            " 4   Adult        22240 non-null  int64 \n",
            " 5   Adventure    22240 non-null  int64 \n",
            " 6   Animation    22240 non-null  int64 \n",
            " 7   Biography    22240 non-null  int64 \n",
            " 8   Comedy       22240 non-null  int64 \n",
            " 9   Crime        22240 non-null  int64 \n",
            " 10  Documentary  22240 non-null  int64 \n",
            " 11  Drama        22240 non-null  int64 \n",
            " 12  Family       22240 non-null  int64 \n",
            " 13  Fantasy      22240 non-null  int64 \n",
            " 14  Film-Noir    22240 non-null  int64 \n",
            " 15  Game-Show    22240 non-null  int64 \n",
            " 16  History      22240 non-null  int64 \n",
            " 17  Horror       22240 non-null  int64 \n",
            " 18  Music        22240 non-null  int64 \n",
            " 19  Musical      22240 non-null  int64 \n",
            " 20  Mystery      22240 non-null  int64 \n",
            " 21  News         22240 non-null  int64 \n",
            " 22  Romance      22240 non-null  int64 \n",
            " 23  Sci-Fi       22240 non-null  int64 \n",
            " 24  Short        22240 non-null  int64 \n",
            " 25  Sport        22240 non-null  int64 \n",
            " 26  Superhero    22240 non-null  int64 \n",
            " 27  Talk-Show    22240 non-null  int64 \n",
            " 28  Thriller     22240 non-null  int64 \n",
            " 29  War          22240 non-null  int64 \n",
            " 30  Western      22240 non-null  int64 \n",
            " 31  \\N           22240 non-null  int64 \n",
            "dtypes: int64(30), object(2)\n",
            "memory usage: 5.4+ MB\n"
          ]
        }
      ]
    },
    {
      "cell_type": "markdown",
      "source": [
        "dropna"
      ],
      "metadata": {
        "id": "zYsIU9DHeD54"
      }
    },
    {
      "cell_type": "code",
      "source": [
        "movies = movies.dropna(axis=0)"
      ],
      "metadata": {
        "id": "ZgGjlgnjeFSr"
      },
      "execution_count": null,
      "outputs": []
    },
    {
      "cell_type": "markdown",
      "source": [
        "### Pre-process data"
      ],
      "metadata": {
        "id": "8lDyu_8PLAZJ"
      }
    },
    {
      "cell_type": "markdown",
      "source": [
        "Genre info"
      ],
      "metadata": {
        "id": "91pVrrx4Rv9Q"
      }
    },
    {
      "cell_type": "code",
      "source": [
        "META = ['id',\t'title', 'short']\n",
        "init_genres = [c for c in movies.columns if c not in META]\n",
        "print(f'Total genres: {len(init_genres)}'\n",
        "      '\\nGenres:\\n\\t' \n",
        "      + '\\n\\t'.join([', '.join(init_genres[i*5:(i+1)*5]) for i in range(len(init_genres) // 5 + 1)]))"
      ],
      "metadata": {
        "colab": {
          "base_uri": "https://localhost:8080/"
        },
        "id": "Z0rW21c5PGt4",
        "outputId": "249d671d-87f0-49ab-a7f9-d0dd69f72388"
      },
      "execution_count": null,
      "outputs": [
        {
          "output_type": "stream",
          "name": "stdout",
          "text": [
            "Total genres: 29\n",
            "Genres:\n",
            "\tAction, Adult, Adventure, Animation, Biography\n",
            "\tComedy, Crime, Documentary, Drama, Family\n",
            "\tFantasy, Film-Noir, Game-Show, History, Horror\n",
            "\tMusic, Musical, Mystery, News, Romance\n",
            "\tSci-Fi, Short, Sport, Superhero, Talk-Show\n",
            "\tThriller, War, Western, \\N\n"
          ]
        }
      ]
    },
    {
      "cell_type": "code",
      "source": [
        "real_genres = ['Action',\n",
        "               'Adventure',\n",
        "               'Animation',\n",
        "               'Biography',\n",
        "               'Comedy',\n",
        "               'Crime',\n",
        "               'Documentary',\n",
        "               'Drama',\n",
        "               'Family',\n",
        "               'Fantasy',\n",
        "               'Film Noir',\n",
        "               'History',\n",
        "               'Horror',\n",
        "               'Music',\n",
        "               'Musical',\n",
        "               'Mystery',\n",
        "               'Romance',\n",
        "               'Sci-Fi',\n",
        "               'Short Film',\n",
        "               'Sport',\n",
        "               'Superhero',\n",
        "               'Thriller',\n",
        "               'War',\n",
        "               'Western']\n",
        "\n",
        "igs = set(init_genres)\n",
        "rgs = set(real_genres)\n",
        "diff_genres = igs.union(rgs).difference(igs.intersection(rgs))\n",
        "print(f'Inirial remaining: {list(igs.intersection(diff_genres))}'\n",
        "      f'\\nReal remaining: {list(rgs.intersection(diff_genres))}')"
      ],
      "metadata": {
        "colab": {
          "base_uri": "https://localhost:8080/"
        },
        "id": "ByU7Zrgv_dTV",
        "outputId": "f4b78e24-c7d1-4298-92b6-a42256db0f32"
      },
      "execution_count": null,
      "outputs": [
        {
          "output_type": "stream",
          "name": "stdout",
          "text": [
            "Inirial remaining: ['Talk-Show', 'Short', 'Film-Noir', 'Adult', '\\\\N', 'News', 'Game-Show']\n",
            "Real remaining: ['Short Film', 'Film Noir']\n"
          ]
        }
      ]
    },
    {
      "cell_type": "code",
      "source": [
        "init_real_genre_map = {'Film-Noir': 'Film Noir', 'Short': 'Short Film'}\n",
        "movies = movies.rename(columns=init_real_genre_map)\n",
        "movies = movies.drop(list(igs.intersection(diff_genres).difference(init_real_genre_map.keys())), axis=1)\n",
        "assert set(movies.columns).difference(META) == rgs"
      ],
      "metadata": {
        "id": "nJndoasHR7FE"
      },
      "execution_count": null,
      "outputs": []
    },
    {
      "cell_type": "markdown",
      "source": [
        "Prepare textual data"
      ],
      "metadata": {
        "id": "mu9D9Nw4Y-98"
      }
    },
    {
      "cell_type": "code",
      "source": [
        "# stemmer = PorterStemmer()\n",
        "lemmatizer = WordNetLemmatizer()\n",
        "swds_eng = stopwords.words('english')\n",
        "\n",
        "def clear_text(t):\n",
        "  t = t.lower()\n",
        "  return ' '.join([w \n",
        "                for w in map(lemmatizer.lemmatize, nltk.word_tokenize(t)) \n",
        "                if w.replace('-', '').isalpha() \n",
        "                  and w not in swds_eng])\n",
        "  # return ' '.join([stemmer.stem(w) for w in t.split(' ') if w not in stopwords.words('english')])\n",
        "\n",
        "movies['short_clear'] = movies['short'].apply(clear_text)"
      ],
      "metadata": {
        "id": "fjh_DQrvY9d9"
      },
      "execution_count": null,
      "outputs": []
    },
    {
      "cell_type": "markdown",
      "source": [
        "Bag Of Words"
      ],
      "metadata": {
        "id": "9jLXo_B3bZ1d"
      }
    },
    {
      "cell_type": "code",
      "source": [
        "vectorizer = CountVectorizer(max_features=252)\n",
        "short_bows = vectorizer.fit_transform(movies['short_clear']).toarray()\n",
        "short_bows = pd.DataFrame(short_bows, columns=vectorizer.get_feature_names_out())\n",
        "short_bows.sum(axis=1).describe()"
      ],
      "metadata": {
        "id": "CvhzbqLKbYga"
      },
      "execution_count": null,
      "outputs": []
    },
    {
      "cell_type": "markdown",
      "source": [
        "Term Frequency - Inverse Document Frequency"
      ],
      "metadata": {
        "id": "Y-FckMv5cNYN"
      }
    },
    {
      "cell_type": "code",
      "source": [
        "tfidf = TfidfVectorizer(max_features=175)\n",
        "short_tfidf = tfidf.fit_transform(movies['short_clear']).toarray()\n",
        "short_tfidf = pd.DataFrame(short_tfidf, columns=tfidf.get_feature_names_out())\n",
        "short_tfidf.max(axis=0)"
      ],
      "metadata": {
        "colab": {
          "base_uri": "https://localhost:8080/"
        },
        "id": "02psqSxtc4Qu",
        "outputId": "9c5bcd72-7a84-472a-acd1-c2e333816f91"
      },
      "execution_count": null,
      "outputs": [
        {
          "output_type": "execute_result",
          "data": {
            "text/plain": [
              "agent       1.000000\n",
              "american    1.000000\n",
              "another     1.000000\n",
              "around      1.000000\n",
              "attempt     1.000000\n",
              "              ...   \n",
              "work        1.000000\n",
              "world       1.000000\n",
              "year        1.000000\n",
              "york        0.808141\n",
              "young       1.000000\n",
              "Length: 175, dtype: float64"
            ]
          },
          "metadata": {},
          "execution_count": 14
        }
      ]
    },
    {
      "cell_type": "markdown",
      "source": [
        "# EDA"
      ],
      "metadata": {
        "id": "MIDT69nXK56T"
      }
    },
    {
      "cell_type": "markdown",
      "source": [
        "### Explore target"
      ],
      "metadata": {
        "id": "f_1dTPZBKznL"
      }
    },
    {
      "cell_type": "markdown",
      "source": [
        "### Charts"
      ],
      "metadata": {
        "id": "23C_Y_p8LNI_"
      }
    },
    {
      "cell_type": "markdown",
      "source": [
        "Since we have multilabel classification, let's investigate rows' label counts"
      ],
      "metadata": {
        "id": "dH2w1KDeEYT-"
      }
    },
    {
      "cell_type": "code",
      "source": [
        "fig, ax = plt.subplots(1, 2, figsize=(18, 6))\n",
        "plt.suptitle('Per-movie genre count')\n",
        "sns.histplot(movies[real_genres].sum(axis=1), discrete=True, ax=ax[0])\n",
        "sns.boxplot(movies[real_genres].sum(axis=1), ax=ax[1])"
      ],
      "metadata": {
        "colab": {
          "base_uri": "https://localhost:8080/"
        },
        "id": "sK9UnKbyD7NB",
        "outputId": "c1145862-9683-44eb-bfb1-90b1e813fe20"
      },
      "execution_count": null,
      "outputs": [
        {
          "output_type": "stream",
          "name": "stderr",
          "text": [
            "/usr/local/lib/python3.7/dist-packages/seaborn/_decorators.py:43: FutureWarning: Pass the following variable as a keyword arg: x. From version 0.12, the only valid positional argument will be `data`, and passing other arguments without an explicit keyword will result in an error or misinterpretation.\n",
            "  FutureWarning\n"
          ]
        },
        {
          "output_type": "execute_result",
          "data": {
            "text/plain": [
              "<matplotlib.axes._subplots.AxesSubplot at 0x7fe6c4cf9b50>"
            ]
          },
          "metadata": {},
          "execution_count": 11
        },
        {
          "output_type": "display_data",
          "data": {
            "text/plain": [
              "<Figure size 1296x432 with 2 Axes>"
            ],
            "image/png": "[encoded data removed]"
          },
          "metadata": {
            "needs_background": "light"
          }
        }
      ]
    },
    {
      "cell_type": "markdown",
      "source": [
        "Count outliers"
      ],
      "metadata": {
        "id": "z8-D6klMFgPQ"
      }
    },
    {
      "cell_type": "code",
      "source": [
        "movies[real_genres].sum(axis=1).value_counts()"
      ],
      "metadata": {
        "colab": {
          "base_uri": "https://localhost:8080/"
        },
        "id": "09WfLghpFf1v",
        "outputId": "66668005-a692-4bba-af8b-86329b5ab106"
      },
      "execution_count": null,
      "outputs": [
        {
          "output_type": "execute_result",
          "data": {
            "text/plain": [
              "3    10493\n",
              "2     6310\n",
              "1     5120\n",
              "4       56\n",
              "0       26\n",
              "dtype: int64"
            ]
          },
          "metadata": {},
          "execution_count": 12
        }
      ]
    },
    {
      "cell_type": "markdown",
      "source": [
        "Insights:\n",
        "\n",
        "\n",
        "*   Approx. a half of movies have three genres. The rest is divided between 1 and 2 genres almost equally.\n",
        "*   We should clear outlies with 0 genres before training.\n",
        "*   Probably, we can speed-up training by punishing model more for more than (or or equals to) 4 genres.\n"
      ],
      "metadata": {
        "id": "CGsJV5skLi_p"
      }
    },
    {
      "cell_type": "markdown",
      "source": [
        "Let's check genre occurence distribution"
      ],
      "metadata": {
        "id": "t4XzF4dLzk8z"
      }
    },
    {
      "cell_type": "code",
      "source": [
        "plt.figure(figsize=(30,15))\n",
        "genre_counts = pd.DataFrame(movies[real_genres].sum(axis=0), columns=['movies_count']).reset_index()\n",
        "genre_counts = genre_counts.rename({'index': 'genre'}).sort_values('movies_count', ascending=False).reset_index(drop=True)\n",
        "sns.histplot(genre_counts, x='index', y='movies_count', bins=len(real_genres))\n",
        "# sns.histplot(movies[real_genres])"
      ],
      "metadata": {
        "colab": {
          "base_uri": "https://localhost:8080/"
        },
        "id": "sLDwz0xxzkpB",
        "outputId": "d88c976f-651a-431e-93cb-cf37eb2c1ee6"
      },
      "execution_count": null,
      "outputs": [
        {
          "output_type": "execute_result",
          "data": {
            "text/plain": [
              "<matplotlib.axes._subplots.AxesSubplot at 0x7fe6c4c0c990>"
            ]
          },
          "metadata": {},
          "execution_count": 13
        },
        {
          "output_type": "display_data",
          "data": {
            "text/plain": [
              "<Figure size 2160x1080 with 1 Axes>"
            ],
            "image/png": "[encoded data removed]"
          },
          "metadata": {
            "needs_background": "light"
          }
        }
      ]
    },
    {
      "cell_type": "code",
      "source": [
        "genre_counts.head()"
      ],
      "metadata": {
        "colab": {
          "base_uri": "https://localhost:8080/"
        },
        "id": "rIbxwSYQ4AEE",
        "outputId": "398b1f40-2136-49b9-b2cd-43f7f099f39b"
      },
      "execution_count": null,
      "outputs": [
        {
          "output_type": "execute_result",
          "data": {
            "text/plain": [
              "      index  movies_count\n",
              "0     Drama         10375\n",
              "1    Comedy          6241\n",
              "2    Action          3940\n",
              "3    Horror          3606\n",
              "4  Thriller          3495"
            ],
            "text/html": [
              "\n",
              "  <div id=\"df-2606b94d-0975-4d51-941e-b81be770081f\">\n",
              "    <div class=\"colab-df-container\">\n",
              "      <div>\n",
              "<style scoped>\n",
              "    .dataframe tbody tr th:only-of-type {\n",
              "        vertical-align: middle;\n",
              "    }\n",
              "\n",
              "    .dataframe tbody tr th {\n",
              "        vertical-align: top;\n",
              "    }\n",
              "\n",
              "    .dataframe thead th {\n",
              "        text-align: right;\n",
              "    }\n",
              "</style>\n",
              "<table border=\"1\" class=\"dataframe\">\n",
              "  <thead>\n",
              "    <tr style=\"text-align: right;\">\n",
              "      <th></th>\n",
              "      <th>index</th>\n",
              "      <th>movies_count</th>\n",
              "    </tr>\n",
              "  </thead>\n",
              "  <tbody>\n",
              "    <tr>\n",
              "      <th>0</th>\n",
              "      <td>Drama</td>\n",
              "      <td>10375</td>\n",
              "    </tr>\n",
              "    <tr>\n",
              "      <th>1</th>\n",
              "      <td>Comedy</td>\n",
              "      <td>6241</td>\n",
              "    </tr>\n",
              "    <tr>\n",
              "      <th>2</th>\n",
              "      <td>Action</td>\n",
              "      <td>3940</td>\n",
              "    </tr>\n",
              "    <tr>\n",
              "      <th>3</th>\n",
              "      <td>Horror</td>\n",
              "      <td>3606</td>\n",
              "    </tr>\n",
              "    <tr>\n",
              "      <th>4</th>\n",
              "      <td>Thriller</td>\n",
              "      <td>3495</td>\n",
              "    </tr>\n",
              "  </tbody>\n",
              "</table>\n",
              "</div>\n",
              "      <button class=\"colab-df-convert\" onclick=\"convertToInteractive('df-2606b94d-0975-4d51-941e-b81be770081f')\"\n",
              "              title=\"Convert this dataframe to an interactive table.\"\n",
              "              style=\"display:none;\">\n",
              "        \n",
              "  <svg xmlns=\"http://www.w3.org/2000/svg\" height=\"24px\"viewBox=\"0 0 24 24\"\n",
              "       width=\"24px\">\n",
              "    <path d=\"M0 0h24v24H0V0z\" fill=\"none\"/>\n",
              "    <path d=\"M18.56 5.44l.94 2.06.94-2.06 2.06-.94-2.06-.94-.94-2.06-.94 2.06-2.06.94zm-11 1L8.5 8.5l.94-2.06 2.06-.94-2.06-.94L8.5 2.5l-.94 2.06-2.06.94zm10 10l.94 2.06.94-2.06 2.06-.94-2.06-.94-.94-2.06-.94 2.06-2.06.94z\"/><path d=\"M17.41 7.96l-1.37-1.37c-.4-.4-.92-.59-1.43-.59-.52 0-1.04.2-1.43.59L10.3 9.45l-7.72 7.72c-.78.78-.78 2.05 0 2.83L4 21.41c.39.39.9.59 1.41.59.51 0 1.02-.2 1.41-.59l7.78-7.78 2.81-2.81c.8-.78.8-2.07 0-2.86zM5.41 20L4 18.59l7.72-7.72 1.47 1.35L5.41 20z\"/>\n",
              "  </svg>\n",
              "      </button>\n",
              "      \n",
              "  <style>\n",
              "    .colab-df-container {\n",
              "      display:flex;\n",
              "      flex-wrap:wrap;\n",
              "      gap: 12px;\n",
              "    }\n",
              "\n",
              "    .colab-df-convert {\n",
              "      background-color: #E8F0FE;\n",
              "      border: none;\n",
              "      border-radius: 50%;\n",
              "      cursor: pointer;\n",
              "      display: none;\n",
              "      fill: #1967D2;\n",
              "      height: 32px;\n",
              "      padding: 0 0 0 0;\n",
              "      width: 32px;\n",
              "    }\n",
              "\n",
              "    .colab-df-convert:hover {\n",
              "      background-color: #E2EBFA;\n",
              "      box-shadow: 0px 1px 2px rgba(60, 64, 67, 0.3), 0px 1px 3px 1px rgba(60, 64, 67, 0.15);\n",
              "      fill: #174EA6;\n",
              "    }\n",
              "\n",
              "    [theme=dark] .colab-df-convert {\n",
              "      background-color: #3B4455;\n",
              "      fill: #D2E3FC;\n",
              "    }\n",
              "\n",
              "    [theme=dark] .colab-df-convert:hover {\n",
              "      background-color: #434B5C;\n",
              "      box-shadow: 0px 1px 3px 1px rgba(0, 0, 0, 0.15);\n",
              "      filter: drop-shadow(0px 1px 2px rgba(0, 0, 0, 0.3));\n",
              "      fill: #FFFFFF;\n",
              "    }\n",
              "  </style>\n",
              "\n",
              "      <script>\n",
              "        const buttonEl =\n",
              "          document.querySelector('#df-2606b94d-0975-4d51-941e-b81be770081f button.colab-df-convert');\n",
              "        buttonEl.style.display =\n",
              "          google.colab.kernel.accessAllowed ? 'block' : 'none';\n",
              "\n",
              "        async function convertToInteractive(key) {\n",
              "          const element = document.querySelector('#df-2606b94d-0975-4d51-941e-b81be770081f');\n",
              "          const dataTable =\n",
              "            await google.colab.kernel.invokeFunction('convertToInteractive',\n",
              "                                                     [key], {});\n",
              "          if (!dataTable) return;\n",
              "\n",
              "          const docLinkHtml = 'Like what you see? Visit the ' +\n",
              "            '<a target=\"_blank\" href=https://colab.research.google.com/notebooks/data_table.ipynb>data table notebook</a>'\n",
              "            + ' to learn more about interactive tables.';\n",
              "          element.innerHTML = '';\n",
              "          dataTable['output_type'] = 'display_data';\n",
              "          await google.colab.output.renderOutput(dataTable, element);\n",
              "          const docLink = document.createElement('div');\n",
              "          docLink.innerHTML = docLinkHtml;\n",
              "          element.appendChild(docLink);\n",
              "        }\n",
              "      </script>\n",
              "    </div>\n",
              "  </div>\n",
              "  "
            ]
          },
          "metadata": {},
          "execution_count": 14
        }
      ]
    },
    {
      "cell_type": "markdown",
      "source": [
        "Cross correlation can help capture most relative genres"
      ],
      "metadata": {
        "id": "uHUkhZNiKNeV"
      }
    },
    {
      "cell_type": "code",
      "source": [
        "plt.figure(figsize=(30, 15))\n",
        "movie_genres_corr_df = movies[real_genres].corr()\n",
        "sns.heatmap(movie_genres_corr_df)"
      ],
      "metadata": {
        "id": "oRYT8KKnEHhH",
        "colab": {
          "base_uri": "https://localhost:8080/"
        },
        "outputId": "51d56143-d0eb-46dc-b5e6-a16a83b339b6"
      },
      "execution_count": null,
      "outputs": [
        {
          "output_type": "execute_result",
          "data": {
            "text/plain": [
              "<matplotlib.axes._subplots.AxesSubplot at 0x7fe6c4c3a7d0>"
            ]
          },
          "metadata": {},
          "execution_count": 15
        },
        {
          "output_type": "display_data",
          "data": {
            "text/plain": [
              "<Figure size 2160x1080 with 2 Axes>"
            ],
            "image/png": "[encoded data removed]"
          },
          "metadata": {
            "needs_background": "light"
          }
        }
      ]
    },
    {
      "cell_type": "markdown",
      "source": [
        "We can see that Adventure correlates with Action and Animation. Also, some other co-occurences can be told to occur more frequently then the majority. \n",
        "\n",
        "Insights:\n",
        "* Probably, we can create more pseudo classes by including the most frequent combinations into genre list. This can help balance distribution of number of genres per movie."
      ],
      "metadata": {
        "id": "X5eGy6YSu_LX"
      }
    },
    {
      "cell_type": "markdown",
      "source": [
        "## Text data"
      ],
      "metadata": {
        "id": "uCN1lappVw1-"
      }
    },
    {
      "cell_type": "code",
      "source": [
        "plt.figure(figsize=(30, 15))\n",
        "movie_genre_word = pd.DataFrame({f: movies[real_genres].corrwith(short_bows[f], axis=0) for f in short_bows.columns})\n",
        "sns.heatmap(movie_genre_word)"
      ],
      "metadata": {
        "colab": {
          "base_uri": "https://localhost:8080/"
        },
        "id": "heIYumzdgJ-G",
        "outputId": "f0a310ae-cf75-4afd-e3a8-38c2810bd881"
      },
      "execution_count": null,
      "outputs": [
        {
          "output_type": "execute_result",
          "data": {
            "text/plain": [
              "<matplotlib.axes._subplots.AxesSubplot at 0x7fe6c1814e10>"
            ]
          },
          "metadata": {},
          "execution_count": 50
        },
        {
          "output_type": "display_data",
          "data": {
            "text/plain": [
              "<Figure size 2160x1080 with 2 Axes>"
            ],
            "image/png": "[encoded data removed]"
          },
          "metadata": {
            "needs_background": "light"
          }
        }
      ]
    },
    {
      "cell_type": "markdown",
      "source": [
        "Top-5 words per genre"
      ],
      "metadata": {
        "id": "e_WSELQdK5ib"
      }
    },
    {
      "cell_type": "code",
      "source": [
        "wds = movie_genre_word.columns\n",
        "best = pd.DataFrame.from_records([[wds[i] for i, _ in sorted(enumerate(wd_info), key=itemgetter(1), reverse=True)[:5]]\n",
        "                                  for _, wd_info in movie_genre_word.iterrows()], \n",
        "                                 columns=['Best', 'second', 'third', 'fourth', 'fifth'],\n",
        "                                 index=movie_genre_word.index)\n",
        "display(best)"
      ],
      "metadata": {
        "colab": {
          "base_uri": "https://localhost:8080/"
        },
        "id": "cvF2Y31diEXv",
        "outputId": "dd38c160-aa6b-4e79-c49b-966f31944909"
      },
      "execution_count": null,
      "outputs": [
        {
          "output_type": "display_data",
          "data": {
            "text/plain": [
              "                  Best     second      third     fourth      fifth\n",
              "Action            city  dangerous     return  adventure   discover\n",
              "Adventure         rich     female       join    killing     career\n",
              "Animation      college      movie     artist       true       even\n",
              "Biography      journey        kid     family     search     forced\n",
              "Comedy         student       team     school     little  detective\n",
              "Crime        beautiful    becomes  adventure     battle      agent\n",
              "Documentary    journey     travel     people    village      thing\n",
              "Drama              run       help       band   business       dark\n",
              "Family             old     trying       land    brother       best\n",
              "Fantasy         couple   together   accident       five   discover\n",
              "Film Noir    scientist   american        war  beautiful     murder\n",
              "History         couple        man       game    married       save\n",
              "Horror         teenage    mission        see      death     living\n",
              "Music          however  discovers      music       crew      house\n",
              "Musical        soldier       girl     trying   american     london\n",
              "Mystery       murdered      place     school        son       away\n",
              "Romance         little       show  childhood      money      begin\n",
              "Sci-Fi           death    killing       four     rescue      order\n",
              "Short Film          go       read    teenage      break       past\n",
              "Sport          officer     across       make       time       save\n",
              "Superhero     discover       crew  scientist        son    attempt\n",
              "Thriller           end    mission     female       head   business\n",
              "War              along     german       wife    husband     change\n",
              "Western          earth     doctor     murder    husband   american"
            ],
            "text/html": [
              "\n",
              "  <div id=\"df-c8b2b248-2162-4a0a-8367-4c7395a2c10d\">\n",
              "    <div class=\"colab-df-container\">\n",
              "      <div>\n",
              "<style scoped>\n",
              "    .dataframe tbody tr th:only-of-type {\n",
              "        vertical-align: middle;\n",
              "    }\n",
              "\n",
              "    .dataframe tbody tr th {\n",
              "        vertical-align: top;\n",
              "    }\n",
              "\n",
              "    .dataframe thead th {\n",
              "        text-align: right;\n",
              "    }\n",
              "</style>\n",
              "<table border=\"1\" class=\"dataframe\">\n",
              "  <thead>\n",
              "    <tr style=\"text-align: right;\">\n",
              "      <th></th>\n",
              "      <th>Best</th>\n",
              "      <th>second</th>\n",
              "      <th>third</th>\n",
              "      <th>fourth</th>\n",
              "      <th>fifth</th>\n",
              "    </tr>\n",
              "  </thead>\n",
              "  <tbody>\n",
              "    <tr>\n",
              "      <th>Action</th>\n",
              "      <td>city</td>\n",
              "      <td>dangerous</td>\n",
              "      <td>return</td>\n",
              "      <td>adventure</td>\n",
              "      <td>discover</td>\n",
              "    </tr>\n",
              "    <tr>\n",
              "      <th>Adventure</th>\n",
              "      <td>rich</td>\n",
              "      <td>female</td>\n",
              "      <td>join</td>\n",
              "      <td>killing</td>\n",
              "      <td>career</td>\n",
              "    </tr>\n",
              "    <tr>\n",
              "      <th>Animation</th>\n",
              "      <td>college</td>\n",
              "      <td>movie</td>\n",
              "      <td>artist</td>\n",
              "      <td>true</td>\n",
              "      <td>even</td>\n",
              "    </tr>\n",
              "    <tr>\n",
              "      <th>Biography</th>\n",
              "      <td>journey</td>\n",
              "      <td>kid</td>\n",
              "      <td>family</td>\n",
              "      <td>search</td>\n",
              "      <td>forced</td>\n",
              "    </tr>\n",
              "    <tr>\n",
              "      <th>Comedy</th>\n",
              "      <td>student</td>\n",
              "      <td>team</td>\n",
              "      <td>school</td>\n",
              "      <td>little</td>\n",
              "      <td>detective</td>\n",
              "    </tr>\n",
              "    <tr>\n",
              "      <th>Crime</th>\n",
              "      <td>beautiful</td>\n",
              "      <td>becomes</td>\n",
              "      <td>adventure</td>\n",
              "      <td>battle</td>\n",
              "      <td>agent</td>\n",
              "    </tr>\n",
              "    <tr>\n",
              "      <th>Documentary</th>\n",
              "      <td>journey</td>\n",
              "      <td>travel</td>\n",
              "      <td>people</td>\n",
              "      <td>village</td>\n",
              "      <td>thing</td>\n",
              "    </tr>\n",
              "    <tr>\n",
              "      <th>Drama</th>\n",
              "      <td>run</td>\n",
              "      <td>help</td>\n",
              "      <td>band</td>\n",
              "      <td>business</td>\n",
              "      <td>dark</td>\n",
              "    </tr>\n",
              "    <tr>\n",
              "      <th>Family</th>\n",
              "      <td>old</td>\n",
              "      <td>trying</td>\n",
              "      <td>land</td>\n",
              "      <td>brother</td>\n",
              "      <td>best</td>\n",
              "    </tr>\n",
              "    <tr>\n",
              "      <th>Fantasy</th>\n",
              "      <td>couple</td>\n",
              "      <td>together</td>\n",
              "      <td>accident</td>\n",
              "      <td>five</td>\n",
              "      <td>discover</td>\n",
              "    </tr>\n",
              "    <tr>\n",
              "      <th>Film Noir</th>\n",
              "      <td>scientist</td>\n",
              "      <td>american</td>\n",
              "      <td>war</td>\n",
              "      <td>beautiful</td>\n",
              "      <td>murder</td>\n",
              "    </tr>\n",
              "    <tr>\n",
              "      <th>History</th>\n",
              "      <td>couple</td>\n",
              "      <td>man</td>\n",
              "      <td>game</td>\n",
              "      <td>married</td>\n",
              "      <td>save</td>\n",
              "    </tr>\n",
              "    <tr>\n",
              "      <th>Horror</th>\n",
              "      <td>teenage</td>\n",
              "      <td>mission</td>\n",
              "      <td>see</td>\n",
              "      <td>death</td>\n",
              "      <td>living</td>\n",
              "    </tr>\n",
              "    <tr>\n",
              "      <th>Music</th>\n",
              "      <td>however</td>\n",
              "      <td>discovers</td>\n",
              "      <td>music</td>\n",
              "      <td>crew</td>\n",
              "      <td>house</td>\n",
              "    </tr>\n",
              "    <tr>\n",
              "      <th>Musical</th>\n",
              "      <td>soldier</td>\n",
              "      <td>girl</td>\n",
              "      <td>trying</td>\n",
              "      <td>american</td>\n",
              "      <td>london</td>\n",
              "    </tr>\n",
              "    <tr>\n",
              "      <th>Mystery</th>\n",
              "      <td>murdered</td>\n",
              "      <td>place</td>\n",
              "      <td>school</td>\n",
              "      <td>son</td>\n",
              "      <td>away</td>\n",
              "    </tr>\n",
              "    <tr>\n",
              "      <th>Romance</th>\n",
              "      <td>little</td>\n",
              "      <td>show</td>\n",
              "      <td>childhood</td>\n",
              "      <td>money</td>\n",
              "      <td>begin</td>\n",
              "    </tr>\n",
              "    <tr>\n",
              "      <th>Sci-Fi</th>\n",
              "      <td>death</td>\n",
              "      <td>killing</td>\n",
              "      <td>four</td>\n",
              "      <td>rescue</td>\n",
              "      <td>order</td>\n",
              "    </tr>\n",
              "    <tr>\n",
              "      <th>Short Film</th>\n",
              "      <td>go</td>\n",
              "      <td>read</td>\n",
              "      <td>teenage</td>\n",
              "      <td>break</td>\n",
              "      <td>past</td>\n",
              "    </tr>\n",
              "    <tr>\n",
              "      <th>Sport</th>\n",
              "      <td>officer</td>\n",
              "      <td>across</td>\n",
              "      <td>make</td>\n",
              "      <td>time</td>\n",
              "      <td>save</td>\n",
              "    </tr>\n",
              "    <tr>\n",
              "      <th>Superhero</th>\n",
              "      <td>discover</td>\n",
              "      <td>crew</td>\n",
              "      <td>scientist</td>\n",
              "      <td>son</td>\n",
              "      <td>attempt</td>\n",
              "    </tr>\n",
              "    <tr>\n",
              "      <th>Thriller</th>\n",
              "      <td>end</td>\n",
              "      <td>mission</td>\n",
              "      <td>female</td>\n",
              "      <td>head</td>\n",
              "      <td>business</td>\n",
              "    </tr>\n",
              "    <tr>\n",
              "      <th>War</th>\n",
              "      <td>along</td>\n",
              "      <td>german</td>\n",
              "      <td>wife</td>\n",
              "      <td>husband</td>\n",
              "      <td>change</td>\n",
              "    </tr>\n",
              "    <tr>\n",
              "      <th>Western</th>\n",
              "      <td>earth</td>\n",
              "      <td>doctor</td>\n",
              "      <td>murder</td>\n",
              "      <td>husband</td>\n",
              "      <td>american</td>\n",
              "    </tr>\n",
              "  </tbody>\n",
              "</table>\n",
              "</div>\n",
              "      <button class=\"colab-df-convert\" onclick=\"convertToInteractive('df-c8b2b248-2162-4a0a-8367-4c7395a2c10d')\"\n",
              "              title=\"Convert this dataframe to an interactive table.\"\n",
              "              style=\"display:none;\">\n",
              "        \n",
              "  <svg xmlns=\"http://www.w3.org/2000/svg\" height=\"24px\"viewBox=\"0 0 24 24\"\n",
              "       width=\"24px\">\n",
              "    <path d=\"M0 0h24v24H0V0z\" fill=\"none\"/>\n",
              "    <path d=\"M18.56 5.44l.94 2.06.94-2.06 2.06-.94-2.06-.94-.94-2.06-.94 2.06-2.06.94zm-11 1L8.5 8.5l.94-2.06 2.06-.94-2.06-.94L8.5 2.5l-.94 2.06-2.06.94zm10 10l.94 2.06.94-2.06 2.06-.94-2.06-.94-.94-2.06-.94 2.06-2.06.94z\"/><path d=\"M17.41 7.96l-1.37-1.37c-.4-.4-.92-.59-1.43-.59-.52 0-1.04.2-1.43.59L10.3 9.45l-7.72 7.72c-.78.78-.78 2.05 0 2.83L4 21.41c.39.39.9.59 1.41.59.51 0 1.02-.2 1.41-.59l7.78-7.78 2.81-2.81c.8-.78.8-2.07 0-2.86zM5.41 20L4 18.59l7.72-7.72 1.47 1.35L5.41 20z\"/>\n",
              "  </svg>\n",
              "      </button>\n",
              "      \n",
              "  <style>\n",
              "    .colab-df-container {\n",
              "      display:flex;\n",
              "      flex-wrap:wrap;\n",
              "      gap: 12px;\n",
              "    }\n",
              "\n",
              "    .colab-df-convert {\n",
              "      background-color: #E8F0FE;\n",
              "      border: none;\n",
              "      border-radius: 50%;\n",
              "      cursor: pointer;\n",
              "      display: none;\n",
              "      fill: #1967D2;\n",
              "      height: 32px;\n",
              "      padding: 0 0 0 0;\n",
              "      width: 32px;\n",
              "    }\n",
              "\n",
              "    .colab-df-convert:hover {\n",
              "      background-color: #E2EBFA;\n",
              "      box-shadow: 0px 1px 2px rgba(60, 64, 67, 0.3), 0px 1px 3px 1px rgba(60, 64, 67, 0.15);\n",
              "      fill: #174EA6;\n",
              "    }\n",
              "\n",
              "    [theme=dark] .colab-df-convert {\n",
              "      background-color: #3B4455;\n",
              "      fill: #D2E3FC;\n",
              "    }\n",
              "\n",
              "    [theme=dark] .colab-df-convert:hover {\n",
              "      background-color: #434B5C;\n",
              "      box-shadow: 0px 1px 3px 1px rgba(0, 0, 0, 0.15);\n",
              "      filter: drop-shadow(0px 1px 2px rgba(0, 0, 0, 0.3));\n",
              "      fill: #FFFFFF;\n",
              "    }\n",
              "  </style>\n",
              "\n",
              "      <script>\n",
              "        const buttonEl =\n",
              "          document.querySelector('#df-c8b2b248-2162-4a0a-8367-4c7395a2c10d button.colab-df-convert');\n",
              "        buttonEl.style.display =\n",
              "          google.colab.kernel.accessAllowed ? 'block' : 'none';\n",
              "\n",
              "        async function convertToInteractive(key) {\n",
              "          const element = document.querySelector('#df-c8b2b248-2162-4a0a-8367-4c7395a2c10d');\n",
              "          const dataTable =\n",
              "            await google.colab.kernel.invokeFunction('convertToInteractive',\n",
              "                                                     [key], {});\n",
              "          if (!dataTable) return;\n",
              "\n",
              "          const docLinkHtml = 'Like what you see? Visit the ' +\n",
              "            '<a target=\"_blank\" href=https://colab.research.google.com/notebooks/data_table.ipynb>data table notebook</a>'\n",
              "            + ' to learn more about interactive tables.';\n",
              "          element.innerHTML = '';\n",
              "          dataTable['output_type'] = 'display_data';\n",
              "          await google.colab.output.renderOutput(dataTable, element);\n",
              "          const docLink = document.createElement('div');\n",
              "          docLink.innerHTML = docLinkHtml;\n",
              "          element.appendChild(docLink);\n",
              "        }\n",
              "      </script>\n",
              "    </div>\n",
              "  </div>\n",
              "  "
            ]
          },
          "metadata": {}
        }
      ]
    },
    {
      "cell_type": "markdown",
      "source": [
        "# Baseline model\n",
        "* Text: Count Vectorizer + XGB\n",
        "* Pict: Convolutional network + classifier layer\n",
        "* Ensemble: mean"
      ],
      "metadata": {
        "id": "5GL9tQu4TVT7"
      }
    },
    {
      "cell_type": "markdown",
      "source": [
        "## Text"
      ],
      "metadata": {
        "id": "WZTHgdsuVY2Q"
      }
    },
    {
      "cell_type": "markdown",
      "source": [
        "### Attempt 1\n",
        "Count Vectorizer + XGB"
      ],
      "metadata": {
        "id": "a5roDDCxLba9"
      }
    },
    {
      "cell_type": "code",
      "source": [
        "def xgb_multilabel():\n",
        "  X_train, X_test, y_train, y_test = train_test_split(short_tfidf, movies[real_genres], test_size=0.2, random_state=RS)\n",
        "\n",
        "  # create XGBoost instance with default hyper-parameters\n",
        "  xgb_estimator = XGBClassifier()\n",
        "\n",
        "  # create MultiOutputClassifier instance with XGBoost model inside\n",
        "  multilabel_model = MultiOutputClassifier(xgb_estimator)\n",
        "\n",
        "  # fit the model\n",
        "  multilabel_model.fit(X_train, y_train)\n",
        "\n",
        "  # evaluate on test data\n",
        "  y_pred = multilabel_model.predict(X_test)\n",
        "  return y_test, y_pred\n",
        "\n",
        "def describe_attempt(y_true, y_pred):\n",
        "  print('Prediction on test data: \\n' \n",
        "        + ('\\n'.join([f'{n}: {f(y_true, y_pred):.5f}' for n, f in [('acc', accuracy_score), \n",
        "                                                                  ('prec', partial(precision_score, average='macro')), \n",
        "                                                                  ('f1',  partial(f1_score, average='macro'))]])))"
      ],
      "metadata": {
        "id": "7B2XXdvUMpK7"
      },
      "execution_count": null,
      "outputs": []
    },
    {
      "cell_type": "code",
      "source": [
        "describe_attempt(*xgb_multilabel())"
      ],
      "metadata": {
        "colab": {
          "base_uri": "https://localhost:8080/"
        },
        "id": "jKNfpihJEfXq",
        "outputId": "80c0d9b5-c37b-4d56-8aac-a1f827994f87"
      },
      "execution_count": null,
      "outputs": [
        {
          "output_type": "stream",
          "name": "stdout",
          "text": [
            "Prediction on test data: \n",
            "acc: 0.06521\n",
            "prec: 0.47211\n",
            "f1: 0.11453\n"
          ]
        },
        {
          "output_type": "stream",
          "name": "stderr",
          "text": [
            "/usr/local/lib/python3.7/dist-packages/sklearn/metrics/_classification.py:1318: UndefinedMetricWarning: Precision is ill-defined and being set to 0.0 in labels with no predicted samples. Use `zero_division` parameter to control this behavior.\n",
            "  _warn_prf(average, modifier, msg_start, len(result))\n"
          ]
        }
      ]
    },
    {
      "cell_type": "markdown",
      "source": [
        "### Attempt 2\n",
        "OneVsRest"
      ],
      "metadata": {
        "id": "eWOItn-4LfnM"
      }
    },
    {
      "cell_type": "code",
      "source": [
        "multilabel_binarizer = MultiLabelBinarizer()\n",
        "\n",
        "def xgb_binarized():\n",
        "  # y = multilabel_binarizer.fit_transform(movies[real_genres].itertuples(index=False))\n",
        "  \n",
        "  X_train, X_test, y_train, y_test = train_test_split(short_tfidf, movies[real_genres], test_size=0.2, random_state=RS)\n",
        "\n",
        "  # create XGBoost instance with default hyper-parameters\n",
        "  xgb_estimator = XGBClassifier()\n",
        "\n",
        "  # create OneVsRestClassifier\n",
        "  ovr = OneVsRestClassifier(xgb_estimator)\n",
        "\n",
        "  # fit the model\n",
        "  ovr.fit(X_train, y_train)\n",
        "\n",
        "  # evaluate on test data\n",
        "  y_pred = ovr.predict(X_test)\n",
        "  return ovr, (y_test, y_pred)\n"
      ],
      "metadata": {
        "id": "elR90jK5Lf9V"
      },
      "execution_count": null,
      "outputs": []
    },
    {
      "cell_type": "code",
      "source": [
        "xgb_bin_model, xgb_bin_eval = xgb_binarized()\n",
        "describe_attempt(*xgb_bin_eval)"
      ],
      "metadata": {
        "colab": {
          "base_uri": "https://localhost:8080/"
        },
        "id": "JHLenZxHNHMg",
        "outputId": "7c9deb78-010d-4f08-ca8d-1d0be00ae4c5"
      },
      "execution_count": null,
      "outputs": [
        {
          "output_type": "stream",
          "name": "stdout",
          "text": [
            "Prediction on test data: \n",
            "acc: 0.06339\n",
            "prec: 0.46405\n",
            "f1: 0.08392\n"
          ]
        },
        {
          "output_type": "stream",
          "name": "stderr",
          "text": [
            "/usr/local/lib/python3.7/dist-packages/sklearn/metrics/_classification.py:1318: UndefinedMetricWarning: Precision is ill-defined and being set to 0.0 in labels with no predicted samples. Use `zero_division` parameter to control this behavior.\n",
            "  _warn_prf(average, modifier, msg_start, len(result))\n"
          ]
        }
      ]
    },
    {
      "cell_type": "markdown",
      "source": [
        "### Attempt 3\n",
        "CNN"
      ],
      "metadata": {
        "id": "WY1hYHPuUdGS"
      }
    },
    {
      "cell_type": "code",
      "source": [
        "from sklearn.utils import class_weight\n",
        "\n",
        "from keras.layers import Input, Dense, Embedding, Flatten, Conv1D, MaxPooling1D, concatenate, Concatenate, BatchNormalization, Dropout\n",
        "from keras.models import Model, Sequential, model_from_json\n",
        "from keras.preprocessing import sequence\n",
        "from keras.preprocessing.text import Tokenizer\n",
        "from keras.utils import np_utils, pad_sequences\n",
        "\n",
        "CNN_FEATURES = 150\n",
        "CNN_SEQ = 20\n",
        "CNN_EMBED = 75\n",
        "\n",
        "CNN_BATCH = 64\n",
        "CNN_EPOCHS = 30\n",
        "\n",
        "def get_cnn():\n",
        "  X_train, X_test, y_train, y_test = train_test_split(movies['short_clear'], movies[real_genres], test_size=0.2, random_state=RS)\n",
        "  tokenizer = Tokenizer(num_words=CNN_FEATURES)\n",
        "  tokenizer.fit_on_texts(movies['short_clear'])\n",
        "  sequences_train = tokenizer.texts_to_sequences(X_train)\n",
        "  sequences_test = tokenizer.texts_to_sequences(X_test)\n",
        "  X_train = pad_sequences(sequences_train, maxlen=CNN_SEQ, padding='post')\n",
        "  X_test = pad_sequences(sequences_test, maxlen=CNN_SEQ, padding='post')\n",
        "  label = pd.DataFrame({'genres': [r[r==1].index for _, r in movies[real_genres].iterrows()]})\n",
        "  # Balanced class weights\n",
        "  # class_weights = class_weight.compute_class_weight('balanced',\n",
        "  #                                                classes=np.array(real_genres),\n",
        "  #                                                y=label)\n",
        "  # y_train = np.transpose(y_train)\n",
        "  # y_test = np.transpose(y_test)\n",
        "  # y_train = np_utils.to_categorical(y_train)\n",
        "  # y_test = np_utils.to_categorical(y_test)\n",
        "\n",
        "  model = get_cnn_model()\n",
        "\n",
        "  model.fit(\n",
        "    x=np.array(X_train), y=np.array(y_train),\n",
        "    batch_size=CNN_BATCH,\n",
        "    epochs=CNN_EPOCHS,\n",
        "    validation_data=(np.array(X_test), y_test),)\n",
        "    # callbacks=[tensorboard, checkpointer],\n",
        "    # class_weight=class_weights)\n",
        "  \n",
        "  print('\\n')\n",
        "  print('====================================')\n",
        "  print(' Validation report')\n",
        "  print('====================================')\n",
        "  print('\\n')\n",
        "  test_predict_1 = model.predict(np.array(X_test[:10]), verbose=1)\n",
        "  return model, (np.array(X_test[:10]), test_predict_1, y_test)\n",
        "\n",
        "def get_cnn_model():\n",
        "  f1_base = Input(shape=(CNN_SEQ, ), dtype='int32')\n",
        "  text_embedding = Embedding(input_dim=CNN_FEATURES, output_dim=CNN_EMBED,\n",
        "                           input_length=CNN_SEQ)(f1_base)\n",
        "  \n",
        "  filter_sizes = [3, 4, 5]\n",
        "  convs = []\n",
        "  for filter_size in filter_sizes:\n",
        "      l_conv = Conv1D(filters=256, kernel_size=filter_size, padding='same', activation='relu')(text_embedding)\n",
        "      l_batch = BatchNormalization()(l_conv)\n",
        "      l_pool = MaxPooling1D(3)(l_conv)\n",
        "\n",
        "      convs.append(l_pool)\n",
        "  \n",
        "  l_merge = Concatenate(axis=1)(convs)\n",
        "  l_pool1 = MaxPooling1D(3)(l_merge)\n",
        "  l_flat = Flatten()(l_pool1)\n",
        "  l_dense = Dense(128, activation='relu')(l_flat)\n",
        "  x = Dropout(0.5)(l_dense)\n",
        "  #f1_x = Flatten()(f1_x)\n",
        "  x = Dense(len(real_genres), activation='softmax')(x)\n",
        "  model = Model(inputs=f1_base, outputs=x)\n",
        "\n",
        "  # determine Loss function and Optimizer\n",
        "  model.compile(loss='categorical_crossentropy', optimizer='adam', metrics=['accuracy'])\n",
        "  return model"
      ],
      "metadata": {
        "id": "92W7w6XzUcqK"
      },
      "execution_count": null,
      "outputs": []
    },
    {
      "cell_type": "code",
      "source": [
        "cnn_model, (cnn_x, cnn_y_pred, cnn_y_true) = get_cnn()"
      ],
      "metadata": {
        "colab": {
          "base_uri": "https://localhost:8080/"
        },
        "id": "9fQgRXhpg5Tx",
        "outputId": "73d66eba-5dbf-4f60-83ef-269c2e05372f"
      },
      "execution_count": null,
      "outputs": [
        {
          "output_type": "error",
          "ename": "KeyboardInterrupt",
          "evalue": "ignored",
          "traceback": [
            "\u001b[0;31m---------------------------------------------------------------------------\u001b[0m",
            "\u001b[0;31mKeyboardInterrupt\u001b[0m                         Traceback (most recent call last)",
            "\u001b[0;32m<ipython-input-19-550ae4f2aa63>\u001b[0m in \u001b[0;36m<module>\u001b[0;34m\u001b[0m\n\u001b[0;32m----> 1\u001b[0;31m \u001b[0mcnn_model\u001b[0m\u001b[0;34m,\u001b[0m \u001b[0;34m(\u001b[0m\u001b[0mcnn_x\u001b[0m\u001b[0;34m,\u001b[0m \u001b[0mcnn_y_pred\u001b[0m\u001b[0;34m,\u001b[0m \u001b[0mcnn_y_true\u001b[0m\u001b[0;34m)\u001b[0m \u001b[0;34m=\u001b[0m \u001b[0mget_cnn\u001b[0m\u001b[0;34m(\u001b[0m\u001b[0;34m)\u001b[0m\u001b[0;34m\u001b[0m\u001b[0;34m\u001b[0m\u001b[0m\n\u001b[0m",
            "\u001b[0;32m<ipython-input-17-c511d846da48>\u001b[0m in \u001b[0;36mget_cnn\u001b[0;34m()\u001b[0m\n\u001b[1;32m     22\u001b[0m   \u001b[0mX_train\u001b[0m \u001b[0;34m=\u001b[0m \u001b[0mpad_sequences\u001b[0m\u001b[0;34m(\u001b[0m\u001b[0msequences_train\u001b[0m\u001b[0;34m,\u001b[0m \u001b[0mmaxlen\u001b[0m\u001b[0;34m=\u001b[0m\u001b[0mCNN_SEQ\u001b[0m\u001b[0;34m,\u001b[0m \u001b[0mpadding\u001b[0m\u001b[0;34m=\u001b[0m\u001b[0;34m'post'\u001b[0m\u001b[0;34m)\u001b[0m\u001b[0;34m\u001b[0m\u001b[0;34m\u001b[0m\u001b[0m\n\u001b[1;32m     23\u001b[0m   \u001b[0mX_test\u001b[0m \u001b[0;34m=\u001b[0m \u001b[0mpad_sequences\u001b[0m\u001b[0;34m(\u001b[0m\u001b[0msequences_test\u001b[0m\u001b[0;34m,\u001b[0m \u001b[0mmaxlen\u001b[0m\u001b[0;34m=\u001b[0m\u001b[0mCNN_SEQ\u001b[0m\u001b[0;34m,\u001b[0m \u001b[0mpadding\u001b[0m\u001b[0;34m=\u001b[0m\u001b[0;34m'post'\u001b[0m\u001b[0;34m)\u001b[0m\u001b[0;34m\u001b[0m\u001b[0;34m\u001b[0m\u001b[0m\n\u001b[0;32m---> 24\u001b[0;31m   \u001b[0mlabel\u001b[0m \u001b[0;34m=\u001b[0m \u001b[0mpd\u001b[0m\u001b[0;34m.\u001b[0m\u001b[0mDataFrame\u001b[0m\u001b[0;34m(\u001b[0m\u001b[0;34m{\u001b[0m\u001b[0;34m'genres'\u001b[0m\u001b[0;34m:\u001b[0m \u001b[0;34m[\u001b[0m\u001b[0mr\u001b[0m\u001b[0;34m[\u001b[0m\u001b[0mr\u001b[0m\u001b[0;34m==\u001b[0m\u001b[0;36m1\u001b[0m\u001b[0;34m]\u001b[0m\u001b[0;34m.\u001b[0m\u001b[0mindex\u001b[0m \u001b[0;32mfor\u001b[0m \u001b[0m_\u001b[0m\u001b[0;34m,\u001b[0m \u001b[0mr\u001b[0m \u001b[0;32min\u001b[0m \u001b[0mmovies\u001b[0m\u001b[0;34m[\u001b[0m\u001b[0mreal_genres\u001b[0m\u001b[0;34m]\u001b[0m\u001b[0;34m.\u001b[0m\u001b[0miterrows\u001b[0m\u001b[0;34m(\u001b[0m\u001b[0;34m)\u001b[0m\u001b[0;34m]\u001b[0m\u001b[0;34m}\u001b[0m\u001b[0;34m)\u001b[0m\u001b[0;34m\u001b[0m\u001b[0;34m\u001b[0m\u001b[0m\n\u001b[0m\u001b[1;32m     25\u001b[0m   \u001b[0;31m# Balanced class weights\u001b[0m\u001b[0;34m\u001b[0m\u001b[0;34m\u001b[0m\u001b[0;34m\u001b[0m\u001b[0m\n\u001b[1;32m     26\u001b[0m   \u001b[0;31m# class_weights = class_weight.compute_class_weight('balanced',\u001b[0m\u001b[0;34m\u001b[0m\u001b[0;34m\u001b[0m\u001b[0;34m\u001b[0m\u001b[0m\n",
            "\u001b[0;32m<ipython-input-17-c511d846da48>\u001b[0m in \u001b[0;36m<listcomp>\u001b[0;34m(.0)\u001b[0m\n\u001b[1;32m     22\u001b[0m   \u001b[0mX_train\u001b[0m \u001b[0;34m=\u001b[0m \u001b[0mpad_sequences\u001b[0m\u001b[0;34m(\u001b[0m\u001b[0msequences_train\u001b[0m\u001b[0;34m,\u001b[0m \u001b[0mmaxlen\u001b[0m\u001b[0;34m=\u001b[0m\u001b[0mCNN_SEQ\u001b[0m\u001b[0;34m,\u001b[0m \u001b[0mpadding\u001b[0m\u001b[0;34m=\u001b[0m\u001b[0;34m'post'\u001b[0m\u001b[0;34m)\u001b[0m\u001b[0;34m\u001b[0m\u001b[0;34m\u001b[0m\u001b[0m\n\u001b[1;32m     23\u001b[0m   \u001b[0mX_test\u001b[0m \u001b[0;34m=\u001b[0m \u001b[0mpad_sequences\u001b[0m\u001b[0;34m(\u001b[0m\u001b[0msequences_test\u001b[0m\u001b[0;34m,\u001b[0m \u001b[0mmaxlen\u001b[0m\u001b[0;34m=\u001b[0m\u001b[0mCNN_SEQ\u001b[0m\u001b[0;34m,\u001b[0m \u001b[0mpadding\u001b[0m\u001b[0;34m=\u001b[0m\u001b[0;34m'post'\u001b[0m\u001b[0;34m)\u001b[0m\u001b[0;34m\u001b[0m\u001b[0;34m\u001b[0m\u001b[0m\n\u001b[0;32m---> 24\u001b[0;31m   \u001b[0mlabel\u001b[0m \u001b[0;34m=\u001b[0m \u001b[0mpd\u001b[0m\u001b[0;34m.\u001b[0m\u001b[0mDataFrame\u001b[0m\u001b[0;34m(\u001b[0m\u001b[0;34m{\u001b[0m\u001b[0;34m'genres'\u001b[0m\u001b[0;34m:\u001b[0m \u001b[0;34m[\u001b[0m\u001b[0mr\u001b[0m\u001b[0;34m[\u001b[0m\u001b[0mr\u001b[0m\u001b[0;34m==\u001b[0m\u001b[0;36m1\u001b[0m\u001b[0;34m]\u001b[0m\u001b[0;34m.\u001b[0m\u001b[0mindex\u001b[0m \u001b[0;32mfor\u001b[0m \u001b[0m_\u001b[0m\u001b[0;34m,\u001b[0m \u001b[0mr\u001b[0m \u001b[0;32min\u001b[0m \u001b[0mmovies\u001b[0m\u001b[0;34m[\u001b[0m\u001b[0mreal_genres\u001b[0m\u001b[0;34m]\u001b[0m\u001b[0;34m.\u001b[0m\u001b[0miterrows\u001b[0m\u001b[0;34m(\u001b[0m\u001b[0;34m)\u001b[0m\u001b[0;34m]\u001b[0m\u001b[0;34m}\u001b[0m\u001b[0;34m)\u001b[0m\u001b[0;34m\u001b[0m\u001b[0;34m\u001b[0m\u001b[0m\n\u001b[0m\u001b[1;32m     25\u001b[0m   \u001b[0;31m# Balanced class weights\u001b[0m\u001b[0;34m\u001b[0m\u001b[0;34m\u001b[0m\u001b[0;34m\u001b[0m\u001b[0m\n\u001b[1;32m     26\u001b[0m   \u001b[0;31m# class_weights = class_weight.compute_class_weight('balanced',\u001b[0m\u001b[0;34m\u001b[0m\u001b[0;34m\u001b[0m\u001b[0;34m\u001b[0m\u001b[0m\n",
            "\u001b[0;32m/usr/local/lib/python3.7/dist-packages/pandas/core/frame.py\u001b[0m in \u001b[0;36miterrows\u001b[0;34m(self)\u001b[0m\n\u001b[1;32m   1261\u001b[0m         \u001b[0mklass\u001b[0m \u001b[0;34m=\u001b[0m \u001b[0mself\u001b[0m\u001b[0;34m.\u001b[0m\u001b[0m_constructor_sliced\u001b[0m\u001b[0;34m\u001b[0m\u001b[0;34m\u001b[0m\u001b[0m\n\u001b[1;32m   1262\u001b[0m         \u001b[0;32mfor\u001b[0m \u001b[0mk\u001b[0m\u001b[0;34m,\u001b[0m \u001b[0mv\u001b[0m \u001b[0;32min\u001b[0m \u001b[0mzip\u001b[0m\u001b[0;34m(\u001b[0m\u001b[0mself\u001b[0m\u001b[0;34m.\u001b[0m\u001b[0mindex\u001b[0m\u001b[0;34m,\u001b[0m \u001b[0mself\u001b[0m\u001b[0;34m.\u001b[0m\u001b[0mvalues\u001b[0m\u001b[0;34m)\u001b[0m\u001b[0;34m:\u001b[0m\u001b[0;34m\u001b[0m\u001b[0;34m\u001b[0m\u001b[0m\n\u001b[0;32m-> 1263\u001b[0;31m             \u001b[0ms\u001b[0m \u001b[0;34m=\u001b[0m \u001b[0mklass\u001b[0m\u001b[0;34m(\u001b[0m\u001b[0mv\u001b[0m\u001b[0;34m,\u001b[0m \u001b[0mindex\u001b[0m\u001b[0;34m=\u001b[0m\u001b[0mcolumns\u001b[0m\u001b[0;34m,\u001b[0m \u001b[0mname\u001b[0m\u001b[0;34m=\u001b[0m\u001b[0mk\u001b[0m\u001b[0;34m)\u001b[0m\u001b[0;34m\u001b[0m\u001b[0;34m\u001b[0m\u001b[0m\n\u001b[0m\u001b[1;32m   1264\u001b[0m             \u001b[0;32myield\u001b[0m \u001b[0mk\u001b[0m\u001b[0;34m,\u001b[0m \u001b[0ms\u001b[0m\u001b[0;34m\u001b[0m\u001b[0;34m\u001b[0m\u001b[0m\n\u001b[1;32m   1265\u001b[0m \u001b[0;34m\u001b[0m\u001b[0m\n",
            "\u001b[0;32m/usr/local/lib/python3.7/dist-packages/pandas/core/series.py\u001b[0m in \u001b[0;36m__init__\u001b[0;34m(self, data, index, dtype, name, copy, fastpath)\u001b[0m\n\u001b[1;32m    441\u001b[0m                 \u001b[0mmanager\u001b[0m \u001b[0;34m=\u001b[0m \u001b[0mget_option\u001b[0m\u001b[0;34m(\u001b[0m\u001b[0;34m\"mode.data_manager\"\u001b[0m\u001b[0;34m)\u001b[0m\u001b[0;34m\u001b[0m\u001b[0;34m\u001b[0m\u001b[0m\n\u001b[1;32m    442\u001b[0m                 \u001b[0;32mif\u001b[0m \u001b[0mmanager\u001b[0m \u001b[0;34m==\u001b[0m \u001b[0;34m\"block\"\u001b[0m\u001b[0;34m:\u001b[0m\u001b[0;34m\u001b[0m\u001b[0;34m\u001b[0m\u001b[0m\n\u001b[0;32m--> 443\u001b[0;31m                     \u001b[0mdata\u001b[0m \u001b[0;34m=\u001b[0m \u001b[0mSingleBlockManager\u001b[0m\u001b[0;34m.\u001b[0m\u001b[0mfrom_array\u001b[0m\u001b[0;34m(\u001b[0m\u001b[0mdata\u001b[0m\u001b[0;34m,\u001b[0m \u001b[0mindex\u001b[0m\u001b[0;34m)\u001b[0m\u001b[0;34m\u001b[0m\u001b[0;34m\u001b[0m\u001b[0m\n\u001b[0m\u001b[1;32m    444\u001b[0m                 \u001b[0;32melif\u001b[0m \u001b[0mmanager\u001b[0m \u001b[0;34m==\u001b[0m \u001b[0;34m\"array\"\u001b[0m\u001b[0;34m:\u001b[0m\u001b[0;34m\u001b[0m\u001b[0;34m\u001b[0m\u001b[0m\n\u001b[1;32m    445\u001b[0m                     \u001b[0mdata\u001b[0m \u001b[0;34m=\u001b[0m \u001b[0mSingleArrayManager\u001b[0m\u001b[0;34m.\u001b[0m\u001b[0mfrom_array\u001b[0m\u001b[0;34m(\u001b[0m\u001b[0mdata\u001b[0m\u001b[0;34m,\u001b[0m \u001b[0mindex\u001b[0m\u001b[0;34m)\u001b[0m\u001b[0;34m\u001b[0m\u001b[0;34m\u001b[0m\u001b[0m\n",
            "\u001b[0;32m/usr/local/lib/python3.7/dist-packages/pandas/core/internals/managers.py\u001b[0m in \u001b[0;36mfrom_array\u001b[0;34m(cls, array, index)\u001b[0m\n\u001b[1;32m   1573\u001b[0m         \"\"\"\n\u001b[1;32m   1574\u001b[0m         \u001b[0mblock\u001b[0m \u001b[0;34m=\u001b[0m \u001b[0mnew_block\u001b[0m\u001b[0;34m(\u001b[0m\u001b[0marray\u001b[0m\u001b[0;34m,\u001b[0m \u001b[0mplacement\u001b[0m\u001b[0;34m=\u001b[0m\u001b[0mslice\u001b[0m\u001b[0;34m(\u001b[0m\u001b[0;36m0\u001b[0m\u001b[0;34m,\u001b[0m \u001b[0mlen\u001b[0m\u001b[0;34m(\u001b[0m\u001b[0mindex\u001b[0m\u001b[0;34m)\u001b[0m\u001b[0;34m)\u001b[0m\u001b[0;34m,\u001b[0m \u001b[0mndim\u001b[0m\u001b[0;34m=\u001b[0m\u001b[0;36m1\u001b[0m\u001b[0;34m)\u001b[0m\u001b[0;34m\u001b[0m\u001b[0;34m\u001b[0m\u001b[0m\n\u001b[0;32m-> 1575\u001b[0;31m         \u001b[0;32mreturn\u001b[0m \u001b[0mcls\u001b[0m\u001b[0;34m(\u001b[0m\u001b[0mblock\u001b[0m\u001b[0;34m,\u001b[0m \u001b[0mindex\u001b[0m\u001b[0;34m)\u001b[0m\u001b[0;34m\u001b[0m\u001b[0;34m\u001b[0m\u001b[0m\n\u001b[0m\u001b[1;32m   1576\u001b[0m \u001b[0;34m\u001b[0m\u001b[0m\n\u001b[1;32m   1577\u001b[0m     \u001b[0;32mdef\u001b[0m \u001b[0m__getstate__\u001b[0m\u001b[0;34m(\u001b[0m\u001b[0mself\u001b[0m\u001b[0;34m)\u001b[0m\u001b[0;34m:\u001b[0m\u001b[0;34m\u001b[0m\u001b[0;34m\u001b[0m\u001b[0m\n",
            "\u001b[0;32m/usr/local/lib/python3.7/dist-packages/pandas/core/internals/managers.py\u001b[0m in \u001b[0;36m__init__\u001b[0;34m(self, block, axis, verify_integrity, fastpath)\u001b[0m\n\u001b[1;32m   1555\u001b[0m             )\n\u001b[1;32m   1556\u001b[0m \u001b[0;34m\u001b[0m\u001b[0m\n\u001b[0;32m-> 1557\u001b[0;31m         \u001b[0mself\u001b[0m\u001b[0;34m.\u001b[0m\u001b[0maxes\u001b[0m \u001b[0;34m=\u001b[0m \u001b[0;34m[\u001b[0m\u001b[0maxis\u001b[0m\u001b[0;34m]\u001b[0m\u001b[0;34m\u001b[0m\u001b[0;34m\u001b[0m\u001b[0m\n\u001b[0m\u001b[1;32m   1558\u001b[0m         \u001b[0mself\u001b[0m\u001b[0;34m.\u001b[0m\u001b[0mblocks\u001b[0m \u001b[0;34m=\u001b[0m \u001b[0;34m(\u001b[0m\u001b[0mblock\u001b[0m\u001b[0;34m,\u001b[0m\u001b[0;34m)\u001b[0m\u001b[0;34m\u001b[0m\u001b[0;34m\u001b[0m\u001b[0m\n\u001b[1;32m   1559\u001b[0m \u001b[0;34m\u001b[0m\u001b[0m\n",
            "\u001b[0;31mKeyboardInterrupt\u001b[0m: "
          ]
        }
      ]
    },
    {
      "cell_type": "markdown",
      "source": [
        "## Image processing"
      ],
      "metadata": {
        "id": "NpJehJNSD6QL"
      }
    },
    {
      "cell_type": "markdown",
      "source": [
        "### Attempt 1"
      ],
      "metadata": {
        "id": "AURKoCLUxZy-"
      }
    },
    {
      "cell_type": "markdown",
      "source": [
        "add image names to data"
      ],
      "metadata": {
        "id": "rs7jZwl-42qE"
      }
    },
    {
      "cell_type": "code",
      "source": [
        "images_ids = {int(id.split('.')[0]): id for id in os.listdir('/content/drive/MyDrive/ITMO/3SEM/IndML/Lab2/imdb_proj/img')}\n",
        "movies['img_name'] = movies['id'].apply(lambda x: images_ids[x])\n",
        "movies['img_name'].iloc[:5]"
      ],
      "metadata": {
        "colab": {
          "base_uri": "https://localhost:8080/"
        },
        "id": "VBrQ4EYu42M6",
        "outputId": "869b152e-f051-497c-9350-dfbcd5c36505"
      },
      "execution_count": null,
      "outputs": [
        {
          "output_type": "execute_result",
          "data": {
            "text/plain": [
              "0     10.jpg\n",
              "1     12.jpg\n",
              "2     70.jpg\n",
              "3     91.jpg\n",
              "4    211.jpg\n",
              "Name: img_name, dtype: object"
            ]
          },
          "metadata": {},
          "execution_count": 11
        }
      ]
    },
    {
      "cell_type": "code",
      "source": [
        "from transformers import ViTFeatureExtractor\n",
        "\n",
        "model_name_or_path = 'google/vit-base-patch16-224-in21k'\n",
        "feature_extractor = ViTFeatureExtractor.from_pretrained(model_name_or_path)"
      ],
      "metadata": {
        "id": "6z82XlQJD514"
      },
      "execution_count": null,
      "outputs": []
    },
    {
      "cell_type": "code",
      "source": [
        "from transformers import ViTForImageClassification, \\\n",
        "                         Trainer, TrainingArguments, TrainerCallback, TrainerState, TrainerControl\n",
        "from datasets import Dataset, DatasetDict, load_metric\n",
        "from time import time\n",
        "\n",
        "vit_prec = load_metric(\"precision\")\n",
        "vit_rec = load_metric(\"recall\")\n",
        "vit_f1 = load_metric(\"f1\")\n",
        "\n",
        "class ViTCallback(TrainerCallback):\n",
        "  def on_step_end(self, args: TrainingArguments, state: TrainerState, control: TrainerControl, **kwargs):\n",
        "    if not hasattr(self, '_prev_epoch'):\n",
        "      setattr(self, '_prev_epoch', 0)\n",
        "      setattr(self, '_time', time())\n",
        "\n",
        "    ep = int(state.epoch)\n",
        "    if ep < self._prev_epoch:\n",
        "      setattr(self, '_prev_epoch', 0)\n",
        "      setattr(self, '_time', time())\n",
        "\n",
        "    if ep > self._prev_epoch:\n",
        "      print()\n",
        "    \n",
        "    t = time() - self._time\n",
        "    print(f'\\rEpoch {ep} {(state.epoch - ep) * 100:.3f}% (total {state.global_step} / {state.max_steps})'\n",
        "            + f' {t//3600:.0f}h : {t//60:.0f}m : {t:.2f}s'\n",
        "            + f'\\t Best precision: {state.best_metric}')\n",
        "\n",
        "\n",
        "def compute_metric(p, metric=None):\n",
        "    return metric.compute(predictions=np.argmax(p.predictions, axis=1), references=p.label_ids)\n",
        "\n",
        "def metrics_computation():\n",
        "  return [partial(compute_metric, metric=vit_prec),\n",
        "          partial(compute_metric, metric=vit_rec),\n",
        "          partial(compute_metric, metric=vit_f1)]\n",
        "\n",
        "def imgf(n):\n",
        "  return os.path.join('/content/drive/MyDrive/ITMO/3SEM/IndML/Lab2/imdb_proj/img', n)\n",
        "\n",
        "def transform_Dataset(example_batch):\n",
        "    # Take a list of PIL images and turn them to pixel values\n",
        "    inputs = feature_extractor([x for x in example_batch['image']], return_tensors='pt')\n",
        "\n",
        "    # Don't forget to include the labels!\n",
        "    inputs['labels'] = example_batch['labels']\n",
        "    return inputs\n",
        "\n",
        "def transform_Dataframe_col(col):\n",
        "  return feature_extractor([x for x in col], return_tensors='pt').pixel_values\n",
        "\n",
        "def paths2images(d):\n",
        "  return [Image.open(imgf(n)) for n in d]\n",
        "\n",
        "def collate_fn(batch):\n",
        "    return {\n",
        "        'pixel_values': torch.stack([x['pixel_values'] for x in batch]),\n",
        "        'labels': torch.tensor([x['labels'] for x in batch])\n",
        "    }\n",
        "\n",
        "def vit():\n",
        "  if 'Image' not in movies.columns:\n",
        "    movies['Image'] = paths2images(movies['img_name'])\n",
        "  labels = movies[real_genres].itertuples(index=False)\n",
        "  ds = pd.DataFrame({'image_file_path': movies['img_name'].apply(imgf),\n",
        "                     'image': transform_Dataframe_col(movies['Image']), \n",
        "                     'labels:': labels})\n",
        "  \n",
        "  ds_train, ds_test = train_test_split(ds, test_size=0.2, random_state=RS)\n",
        "  ds_train, ds_val = train_test_split(ds_train, test_size=0.2, random_state=RS)\n",
        "\n",
        "  ds = DatasetDict({\n",
        "      'train': Dataset.from_pandas(ds_train, split='train'),\n",
        "      'validation': Dataset.from_pandas(ds_val, split='validation'),\n",
        "      'test': Dataset.from_pandas(ds_test, split='test')\n",
        "  })\n",
        "\n",
        "  # ds = ds.with_transform(transform_Dataset)\n",
        "  \n",
        "  model = ViTForImageClassification.from_pretrained(model_name_or_path,\n",
        "                                                    num_labels=len(real_genres),\n",
        "                                                    id2label={str(i): c for i, c in enumerate(real_genres)},\n",
        "                                                    label2id={c: str(i) for i, c in enumerate(real_genres)})\n",
        "  \n",
        "  training_args = TrainingArguments(\n",
        "    output_dir=\"/content/drive/MyDrive/ITMO/3SEM/IndML/Lab2/model_vit\",\n",
        "    per_device_train_batch_size=16,\n",
        "    evaluation_strategy=\"steps\",\n",
        "    num_train_epochs=4,\n",
        "    fp16=True,\n",
        "    save_steps=100,\n",
        "    eval_steps=100,\n",
        "    logging_steps=10,\n",
        "    learning_rate=2e-4,\n",
        "    save_total_limit=2,\n",
        "    remove_unused_columns=False,\n",
        "    push_to_hub=False,\n",
        "    report_to='tensorboard',\n",
        "    load_best_model_at_end=True,\n",
        "  )\n",
        "\n",
        "  trainer = Trainer(\n",
        "    model=model,\n",
        "    args=training_args,\n",
        "    data_collator=collate_fn,\n",
        "    compute_metrics=metrics_computation(),\n",
        "    train_dataset=ds['train'],\n",
        "    eval_dataset=ds['validation'],\n",
        "    tokenizer=feature_extractor,\n",
        "    callbacks=[ViTCallback()]\n",
        "  )\n",
        "\n",
        "  train_results = trainer.train()\n",
        "  trainer.save_model()\n",
        "  trainer.log_metrics(\"train\", train_results.metrics)\n",
        "  trainer.save_metrics(\"train\", train_results.metrics)\n",
        "  trainer.save_state()\n",
        "\n",
        "  return train_results, trainer\n",
        "  \n",
        "  \n",
        "\n"
      ],
      "metadata": {
        "colab": {
          "base_uri": "https://localhost:8080/"
        },
        "id": "oCimka8Zds1P",
        "outputId": "9d85cb3a-0a51-4636-802e-916192e552d7"
      },
      "execution_count": null,
      "outputs": [
        {
          "output_type": "stream",
          "name": "stderr",
          "text": [
            "/usr/local/lib/python3.7/dist-packages/ipykernel_launcher.py:6: FutureWarning: load_metric is deprecated and will be removed in the next major version of datasets. Use 'evaluate.load' instead, from the new library 🤗 Evaluate: https://huggingface.co/docs/evaluate\n",
            "  \n"
          ]
        }
      ]
    },
    {
      "cell_type": "code",
      "source": [
        "vit_result, vit_trainer = vit()"
      ],
      "metadata": {
        "id": "07t9pkTjBsyY",
        "colab": {
          "base_uri": "https://localhost:8080/",
          "height": 859
        },
        "outputId": "c263a3b6-b721-44bf-9461-24490ef4c2f6"
      },
      "execution_count": null,
      "outputs": [
        {
          "output_type": "error",
          "ename": "ValueError",
          "evalue": "ignored",
          "traceback": [
            "\u001b[0;31m---------------------------------------------------------------------------\u001b[0m",
            "\u001b[0;31mValueError\u001b[0m                                Traceback (most recent call last)",
            "\u001b[0;32m<ipython-input-14-0d7714a38efa>\u001b[0m in \u001b[0;36m<module>\u001b[0;34m\u001b[0m\n\u001b[0;32m----> 1\u001b[0;31m \u001b[0mvit_result\u001b[0m\u001b[0;34m,\u001b[0m \u001b[0mvit_trainer\u001b[0m \u001b[0;34m=\u001b[0m \u001b[0mvit\u001b[0m\u001b[0;34m(\u001b[0m\u001b[0;34m)\u001b[0m\u001b[0;34m\u001b[0m\u001b[0;34m\u001b[0m\u001b[0m\n\u001b[0m",
            "\u001b[0;32m<ipython-input-13-2586031c9cf2>\u001b[0m in \u001b[0;36mvit\u001b[0;34m()\u001b[0m\n\u001b[1;32m     64\u001b[0m   \u001b[0mlabels\u001b[0m \u001b[0;34m=\u001b[0m \u001b[0mmovies\u001b[0m\u001b[0;34m[\u001b[0m\u001b[0mreal_genres\u001b[0m\u001b[0;34m]\u001b[0m\u001b[0;34m.\u001b[0m\u001b[0mitertuples\u001b[0m\u001b[0;34m(\u001b[0m\u001b[0mindex\u001b[0m\u001b[0;34m=\u001b[0m\u001b[0;32mFalse\u001b[0m\u001b[0;34m)\u001b[0m\u001b[0;34m\u001b[0m\u001b[0;34m\u001b[0m\u001b[0m\n\u001b[1;32m     65\u001b[0m   ds = pd.DataFrame({'image_file_path': movies['img_name'].apply(imgf),\n\u001b[0;32m---> 66\u001b[0;31m                      \u001b[0;34m'image'\u001b[0m\u001b[0;34m:\u001b[0m \u001b[0mtransform_Dataframe_col\u001b[0m\u001b[0;34m(\u001b[0m\u001b[0mmovies\u001b[0m\u001b[0;34m[\u001b[0m\u001b[0;34m'Image'\u001b[0m\u001b[0;34m]\u001b[0m\u001b[0;34m)\u001b[0m\u001b[0;34m,\u001b[0m\u001b[0;34m\u001b[0m\u001b[0;34m\u001b[0m\u001b[0m\n\u001b[0m\u001b[1;32m     67\u001b[0m                      'labels:': labels})\n\u001b[1;32m     68\u001b[0m \u001b[0;34m\u001b[0m\u001b[0m\n",
            "\u001b[0;32m<ipython-input-13-2586031c9cf2>\u001b[0m in \u001b[0;36mtransform_Dataframe_col\u001b[0;34m(col)\u001b[0m\n\u001b[1;32m     48\u001b[0m \u001b[0;34m\u001b[0m\u001b[0m\n\u001b[1;32m     49\u001b[0m \u001b[0;32mdef\u001b[0m \u001b[0mtransform_Dataframe_col\u001b[0m\u001b[0;34m(\u001b[0m\u001b[0mcol\u001b[0m\u001b[0;34m)\u001b[0m\u001b[0;34m:\u001b[0m\u001b[0;34m\u001b[0m\u001b[0;34m\u001b[0m\u001b[0m\n\u001b[0;32m---> 50\u001b[0;31m   \u001b[0;32mreturn\u001b[0m \u001b[0mfeature_extractor\u001b[0m\u001b[0;34m(\u001b[0m\u001b[0;34m[\u001b[0m\u001b[0mx\u001b[0m \u001b[0;32mfor\u001b[0m \u001b[0mx\u001b[0m \u001b[0;32min\u001b[0m \u001b[0mcol\u001b[0m\u001b[0;34m]\u001b[0m\u001b[0;34m,\u001b[0m \u001b[0mreturn_tensors\u001b[0m\u001b[0;34m=\u001b[0m\u001b[0;34m'pt'\u001b[0m\u001b[0;34m)\u001b[0m\u001b[0;34m.\u001b[0m\u001b[0mpixel_values\u001b[0m\u001b[0;34m\u001b[0m\u001b[0;34m\u001b[0m\u001b[0m\n\u001b[0m\u001b[1;32m     51\u001b[0m \u001b[0;34m\u001b[0m\u001b[0m\n\u001b[1;32m     52\u001b[0m \u001b[0;32mdef\u001b[0m \u001b[0mpaths2images\u001b[0m\u001b[0;34m(\u001b[0m\u001b[0md\u001b[0m\u001b[0;34m)\u001b[0m\u001b[0;34m:\u001b[0m\u001b[0;34m\u001b[0m\u001b[0;34m\u001b[0m\u001b[0m\n",
            "\u001b[0;32m/usr/local/lib/python3.7/dist-packages/transformers/models/vit/feature_extraction_vit.py\u001b[0m in \u001b[0;36m__call__\u001b[0;34m(self, images, return_tensors, **kwargs)\u001b[0m\n\u001b[1;32m    144\u001b[0m             \u001b[0mimages\u001b[0m \u001b[0;34m=\u001b[0m \u001b[0;34m[\u001b[0m\u001b[0mself\u001b[0m\u001b[0;34m.\u001b[0m\u001b[0mresize\u001b[0m\u001b[0;34m(\u001b[0m\u001b[0mimage\u001b[0m\u001b[0;34m=\u001b[0m\u001b[0mimage\u001b[0m\u001b[0;34m,\u001b[0m \u001b[0msize\u001b[0m\u001b[0;34m=\u001b[0m\u001b[0mself\u001b[0m\u001b[0;34m.\u001b[0m\u001b[0msize\u001b[0m\u001b[0;34m,\u001b[0m \u001b[0mresample\u001b[0m\u001b[0;34m=\u001b[0m\u001b[0mself\u001b[0m\u001b[0;34m.\u001b[0m\u001b[0mresample\u001b[0m\u001b[0;34m)\u001b[0m \u001b[0;32mfor\u001b[0m \u001b[0mimage\u001b[0m \u001b[0;32min\u001b[0m \u001b[0mimages\u001b[0m\u001b[0;34m]\u001b[0m\u001b[0;34m\u001b[0m\u001b[0;34m\u001b[0m\u001b[0m\n\u001b[1;32m    145\u001b[0m         \u001b[0;32mif\u001b[0m \u001b[0mself\u001b[0m\u001b[0;34m.\u001b[0m\u001b[0mdo_normalize\u001b[0m\u001b[0;34m:\u001b[0m\u001b[0;34m\u001b[0m\u001b[0;34m\u001b[0m\u001b[0m\n\u001b[0;32m--> 146\u001b[0;31m             \u001b[0mimages\u001b[0m \u001b[0;34m=\u001b[0m \u001b[0;34m[\u001b[0m\u001b[0mself\u001b[0m\u001b[0;34m.\u001b[0m\u001b[0mnormalize\u001b[0m\u001b[0;34m(\u001b[0m\u001b[0mimage\u001b[0m\u001b[0;34m=\u001b[0m\u001b[0mimage\u001b[0m\u001b[0;34m,\u001b[0m \u001b[0mmean\u001b[0m\u001b[0;34m=\u001b[0m\u001b[0mself\u001b[0m\u001b[0;34m.\u001b[0m\u001b[0mimage_mean\u001b[0m\u001b[0;34m,\u001b[0m \u001b[0mstd\u001b[0m\u001b[0;34m=\u001b[0m\u001b[0mself\u001b[0m\u001b[0;34m.\u001b[0m\u001b[0mimage_std\u001b[0m\u001b[0;34m)\u001b[0m \u001b[0;32mfor\u001b[0m \u001b[0mimage\u001b[0m \u001b[0;32min\u001b[0m \u001b[0mimages\u001b[0m\u001b[0;34m]\u001b[0m\u001b[0;34m\u001b[0m\u001b[0;34m\u001b[0m\u001b[0m\n\u001b[0m\u001b[1;32m    147\u001b[0m \u001b[0;34m\u001b[0m\u001b[0m\n\u001b[1;32m    148\u001b[0m         \u001b[0;31m# return as BatchFeature\u001b[0m\u001b[0;34m\u001b[0m\u001b[0;34m\u001b[0m\u001b[0;34m\u001b[0m\u001b[0m\n",
            "\u001b[0;32m/usr/local/lib/python3.7/dist-packages/transformers/models/vit/feature_extraction_vit.py\u001b[0m in \u001b[0;36m<listcomp>\u001b[0;34m(.0)\u001b[0m\n\u001b[1;32m    144\u001b[0m             \u001b[0mimages\u001b[0m \u001b[0;34m=\u001b[0m \u001b[0;34m[\u001b[0m\u001b[0mself\u001b[0m\u001b[0;34m.\u001b[0m\u001b[0mresize\u001b[0m\u001b[0;34m(\u001b[0m\u001b[0mimage\u001b[0m\u001b[0;34m=\u001b[0m\u001b[0mimage\u001b[0m\u001b[0;34m,\u001b[0m \u001b[0msize\u001b[0m\u001b[0;34m=\u001b[0m\u001b[0mself\u001b[0m\u001b[0;34m.\u001b[0m\u001b[0msize\u001b[0m\u001b[0;34m,\u001b[0m \u001b[0mresample\u001b[0m\u001b[0;34m=\u001b[0m\u001b[0mself\u001b[0m\u001b[0;34m.\u001b[0m\u001b[0mresample\u001b[0m\u001b[0;34m)\u001b[0m \u001b[0;32mfor\u001b[0m \u001b[0mimage\u001b[0m \u001b[0;32min\u001b[0m \u001b[0mimages\u001b[0m\u001b[0;34m]\u001b[0m\u001b[0;34m\u001b[0m\u001b[0;34m\u001b[0m\u001b[0m\n\u001b[1;32m    145\u001b[0m         \u001b[0;32mif\u001b[0m \u001b[0mself\u001b[0m\u001b[0;34m.\u001b[0m\u001b[0mdo_normalize\u001b[0m\u001b[0;34m:\u001b[0m\u001b[0;34m\u001b[0m\u001b[0;34m\u001b[0m\u001b[0m\n\u001b[0;32m--> 146\u001b[0;31m             \u001b[0mimages\u001b[0m \u001b[0;34m=\u001b[0m \u001b[0;34m[\u001b[0m\u001b[0mself\u001b[0m\u001b[0;34m.\u001b[0m\u001b[0mnormalize\u001b[0m\u001b[0;34m(\u001b[0m\u001b[0mimage\u001b[0m\u001b[0;34m=\u001b[0m\u001b[0mimage\u001b[0m\u001b[0;34m,\u001b[0m \u001b[0mmean\u001b[0m\u001b[0;34m=\u001b[0m\u001b[0mself\u001b[0m\u001b[0;34m.\u001b[0m\u001b[0mimage_mean\u001b[0m\u001b[0;34m,\u001b[0m \u001b[0mstd\u001b[0m\u001b[0;34m=\u001b[0m\u001b[0mself\u001b[0m\u001b[0;34m.\u001b[0m\u001b[0mimage_std\u001b[0m\u001b[0;34m)\u001b[0m \u001b[0;32mfor\u001b[0m \u001b[0mimage\u001b[0m \u001b[0;32min\u001b[0m \u001b[0mimages\u001b[0m\u001b[0;34m]\u001b[0m\u001b[0;34m\u001b[0m\u001b[0;34m\u001b[0m\u001b[0m\n\u001b[0m\u001b[1;32m    147\u001b[0m \u001b[0;34m\u001b[0m\u001b[0m\n\u001b[1;32m    148\u001b[0m         \u001b[0;31m# return as BatchFeature\u001b[0m\u001b[0;34m\u001b[0m\u001b[0;34m\u001b[0m\u001b[0;34m\u001b[0m\u001b[0m\n",
            "\u001b[0;32m/usr/local/lib/python3.7/dist-packages/transformers/image_utils.py\u001b[0m in \u001b[0;36mnormalize\u001b[0;34m(self, image, mean, std, rescale)\u001b[0m\n\u001b[1;32m    349\u001b[0m             \u001b[0;32mreturn\u001b[0m \u001b[0;34m(\u001b[0m\u001b[0mimage\u001b[0m \u001b[0;34m-\u001b[0m \u001b[0mmean\u001b[0m\u001b[0;34m[\u001b[0m\u001b[0;34m:\u001b[0m\u001b[0;34m,\u001b[0m \u001b[0;32mNone\u001b[0m\u001b[0;34m,\u001b[0m \u001b[0;32mNone\u001b[0m\u001b[0;34m]\u001b[0m\u001b[0;34m)\u001b[0m \u001b[0;34m/\u001b[0m \u001b[0mstd\u001b[0m\u001b[0;34m[\u001b[0m\u001b[0;34m:\u001b[0m\u001b[0;34m,\u001b[0m \u001b[0;32mNone\u001b[0m\u001b[0;34m,\u001b[0m \u001b[0;32mNone\u001b[0m\u001b[0;34m]\u001b[0m\u001b[0;34m\u001b[0m\u001b[0;34m\u001b[0m\u001b[0m\n\u001b[1;32m    350\u001b[0m         \u001b[0;32melse\u001b[0m\u001b[0;34m:\u001b[0m\u001b[0;34m\u001b[0m\u001b[0;34m\u001b[0m\u001b[0m\n\u001b[0;32m--> 351\u001b[0;31m             \u001b[0;32mreturn\u001b[0m \u001b[0;34m(\u001b[0m\u001b[0mimage\u001b[0m \u001b[0;34m-\u001b[0m \u001b[0mmean\u001b[0m\u001b[0;34m)\u001b[0m \u001b[0;34m/\u001b[0m \u001b[0mstd\u001b[0m\u001b[0;34m\u001b[0m\u001b[0;34m\u001b[0m\u001b[0m\n\u001b[0m\u001b[1;32m    352\u001b[0m \u001b[0;34m\u001b[0m\u001b[0m\n\u001b[1;32m    353\u001b[0m     \u001b[0;32mdef\u001b[0m \u001b[0mresize\u001b[0m\u001b[0;34m(\u001b[0m\u001b[0mself\u001b[0m\u001b[0;34m,\u001b[0m \u001b[0mimage\u001b[0m\u001b[0;34m,\u001b[0m \u001b[0msize\u001b[0m\u001b[0;34m,\u001b[0m \u001b[0mresample\u001b[0m\u001b[0;34m=\u001b[0m\u001b[0;32mNone\u001b[0m\u001b[0;34m,\u001b[0m \u001b[0mdefault_to_square\u001b[0m\u001b[0;34m=\u001b[0m\u001b[0;32mTrue\u001b[0m\u001b[0;34m,\u001b[0m \u001b[0mmax_size\u001b[0m\u001b[0;34m=\u001b[0m\u001b[0;32mNone\u001b[0m\u001b[0;34m)\u001b[0m\u001b[0;34m:\u001b[0m\u001b[0;34m\u001b[0m\u001b[0;34m\u001b[0m\u001b[0m\n",
            "\u001b[0;31mValueError\u001b[0m: operands could not be broadcast together with shapes (224,224) (3,) "
          ]
        }
      ]
    },
    {
      "cell_type": "code",
      "source": [],
      "metadata": {
        "id": "5wIc2a5utp5i"
      },
      "execution_count": null,
      "outputs": []
    }
  ]
}